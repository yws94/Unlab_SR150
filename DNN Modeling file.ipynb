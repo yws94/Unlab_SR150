{
 "cells": [
  {
   "cell_type": "markdown",
   "id": "e0134362",
   "metadata": {},
   "source": [
    "1. 라이브러리 importing "
   ]
  },
  {
   "cell_type": "code",
   "execution_count": 1,
   "id": "d020d3d6",
   "metadata": {},
   "outputs": [],
   "source": [
    "import tensorflow as tf\n",
    "import numpy as np\n",
    "from datetime import datetime\n",
    "import csv\n",
    "import os\n",
    "os.environ['TF_CPP_MIN_LOG_LEVEL'] = '2' # 텐서플로에서 ERROR, INFO, WARNING 로그를 출력하는 방법 -> 2 = INFO and WARNING messages are not printed"
   ]
  },
  {
   "cell_type": "markdown",
   "id": "120dfbec",
   "metadata": {},
   "source": [
    "2. 데이터셋 생성을 위한 함수. 본 파일에선 Python generator를 응용한 데이터셋 구성 방법을 사용하였습니다."
   ]
  },
  {
   "cell_type": "code",
   "execution_count": 2,
   "id": "e8f096fb",
   "metadata": {},
   "outputs": [],
   "source": [
    "np.set_printoptions(precision=4, suppress=True) \n",
    "\n",
    "LABEL_COLUMN = 'nlos'\n",
    "LABELS = [0, 1] # 출력결과 NLOS -> 0 or 1\n",
    "\n",
    "def get_dataset(file_path, **kwargs):\n",
    "  dataset = tf.data.experimental.make_csv_dataset(\n",
    "      file_path,\n",
    "      batch_size=32, # batch: 모델의 가중치를 업데이트하는 샘플 단위\n",
    "      label_name=LABEL_COLUMN,\n",
    "      na_value=\"?\", # NA/NaN으로 인식할 문자열\n",
    "      num_epochs=1, # 학습횟수\n",
    "      ignore_errors=True,  #오류를 무시하고 다음 유효 CSV레코드로 이동\n",
    "      shuffle=True, # 입력 셔플 X\n",
    "      **kwargs)\n",
    "  return dataset\n",
    "\n",
    "def show_batch(dataset): #각 열의 항목(배치)를 보여줌\n",
    "  for batch, label in dataset.take(1):\n",
    "    for key, value in batch.items():\n",
    "      print(\"{:20s}: {}\".format(key,value.numpy()))\n",
    "\n",
    "def pack(features, label): #모든 열들을 묶어줌\n",
    "  return tf.stack(list(features.values()), axis=-1), label"
   ]
  },
  {
   "cell_type": "markdown",
   "id": "bc8245c2",
   "metadata": {},
   "source": [
    "3. 위 함수의 매개변수로 전달되는 CSV 파일에서 학습에 사용할 열을 지정합니다."
   ]
  },
  {
   "cell_type": "code",
   "execution_count": 3,
   "id": "d0958370",
   "metadata": {},
   "outputs": [],
   "source": [
    "SELECT_COLUMNS = [\"nlos\",\\\n",
    "                  \"SNR main path 1\", \"SNR main path 2\", \"SNR main path 3\", \"SNR main path 4\",\\\n",
    "                  \"SNR first path 1\",\"SNR first path 2\",\"SNR first path 3\",\"SNR first path 4\",\\\n",
    "                  \"SNR Total 1\",\"SNR Total 2\",\"SNR Total 3\",\"SNR Total 4\",\\\n",
    "                  \"RSSI 1\",\"RSSI 2\",\"RSSI 3\",\"RSSI 4\",\\\n",
    "                  \"CIR main power 1\",\"CIR main power 2\",\"CIR main power 3\",\"CIR main power 4\",\\\n",
    "                  \"CIR first path power 1\",\"CIR first path power 2\",\"CIR first path power3\",\"CIR first path power 4\",\\\n",
    "                  \"Noise variance 1\",\"Noise variance 2\",\"Noise variance 3\",\"Noise variance 4\"]      # 열 이름\n",
    "DEFAULTS       = [0.0,\\\n",
    "                  0.0, 0.0, 0.0, 0.0,\\\n",
    "                  0.0, 0.0, 0.0, 0.0,\\\n",
    "                  0.0, 0.0, 0.0, 0.0,\\\n",
    "                  0.0, 0.0, 0.0, 0.0,\\\n",
    "                  0.0, 0.0, 0.0, 0.0,\\\n",
    "                  0.0, 0.0, 0.0, 0.0,\\\n",
    "                  0.0, 0.0, 0.0, 0.0] # 열 기본 값  설정\n",
    "\n",
    "raw_train_data = get_dataset(\"./dnn_input/master_train.csv\", \n",
    "                           select_columns=SELECT_COLUMNS,\n",
    "                           column_defaults = DEFAULTS)\n",
    "raw_val_data = get_dataset(\"./dnn_input/validation.csv\",\n",
    "                           select_columns=SELECT_COLUMNS,\n",
    "                           column_defaults = DEFAULTS)"
   ]
  },
  {
   "cell_type": "markdown",
   "id": "df7bf197",
   "metadata": {},
   "source": [
    "4. 2에서 정의한 함수를 기반으로 데이터 셋을 생성합니다."
   ]
  },
  {
   "cell_type": "code",
   "execution_count": 4,
   "id": "c927d2ee",
   "metadata": {},
   "outputs": [],
   "source": [
    "train_batch, train_labels_batch = next(iter(raw_train_data)) # iter : 반복을 이용해 어떠한 처리를 수행하는 호출가능 객체, next: 반복 수행 요청\n",
    "val_batch, val_labels_batch = next(iter(raw_val_data))\n",
    "# test_batch, test_labels_batch = next(iter(raw_test_data))\n",
    "    \n",
    "packed_dataset = raw_train_data.map(pack)\n",
    "packed_val_dataset = raw_val_data.map(pack)\n",
    "# packed_test_dataset = raw_test_data.map(pack)"
   ]
  },
  {
   "cell_type": "markdown",
   "id": "fa8dc328",
   "metadata": {},
   "source": [
    "5. 딥러닝 모델을 구성합니다. mirrored_strategy 부분은 다수의 GPU를 사용하기 위한 코드로 선택적으로 사용하시면 됩니다."
   ]
  },
  {
   "cell_type": "code",
   "execution_count": 5,
   "id": "b0233a5a",
   "metadata": {},
   "outputs": [
    {
     "name": "stdout",
     "output_type": "stream",
     "text": [
      "WARNING:tensorflow:There are non-GPU devices in `tf.distribute.Strategy`, not using nccl allreduce.\n",
      "INFO:tensorflow:Using MirroredStrategy with devices ('/job:localhost/replica:0/task:0/device:CPU:0',)\n",
      "Model: \"sequential\"\n",
      "_________________________________________________________________\n",
      " Layer (type)                Output Shape              Param #   \n",
      "=================================================================\n",
      " dense (Dense)               (None, 56)                1624      \n",
      "                                                                 \n",
      " dense_1 (Dense)             (None, 112)               6384      \n",
      "                                                                 \n",
      " dense_2 (Dense)             (None, 56)                6328      \n",
      "                                                                 \n",
      " dense_3 (Dense)             (None, 1)                 57        \n",
      "                                                                 \n",
      "=================================================================\n",
      "Total params: 14,393\n",
      "Trainable params: 14,393\n",
      "Non-trainable params: 0\n",
      "_________________________________________________________________\n"
     ]
    }
   ],
   "source": [
    "opt = tf.keras.optimizers.Adadelta(learning_rate=0.001) # Adadelta optimization is a stochastic gradient descent method that is based on adaptive learning rate per dimension\n",
    "\n",
    "mirrored_strategy = tf.distribute.MirroredStrategy()\n",
    "\n",
    "\n",
    "with mirrored_strategy.scope():\n",
    "    model = tf.keras.Sequential([\n",
    "    tf.keras.layers.Input(shape=(28,)),\n",
    "    tf.keras.layers.Dense(56,activation='tanh'), # 노드 수 : 56, input 차원 : 28\n",
    "    tf.keras.layers.Dense(112,activation='tanh'), # 노드 수 : 112, input 차원 : 56\n",
    "    tf.keras.layers.Dense(56, activation='tanh'), # 노드 수 : 56, input 차원 : 112\n",
    "    tf.keras.layers.Dense(1,activation='sigmoid'), # 노드 수 : 1, input 차원 : 56\n",
    "    ])\n",
    "\n",
    "\n",
    "    model.compile(\n",
    "        loss=tf.keras.losses.BinaryCrossentropy(from_logits=True),\n",
    "        optimizer=opt,\n",
    "        metrics=['accuracy'])\n",
    "    \n",
    "model.summary()"
   ]
  },
  {
   "cell_type": "markdown",
   "id": "a61d6bec",
   "metadata": {},
   "source": [
    "6. 학습을 위해 데이터 셋을 한 번 더 지정하고, 실시간으로 학습 상황을 파악하기위해 Tensorboard Callback을 선언합니다."
   ]
  },
  {
   "cell_type": "code",
   "execution_count": 6,
   "id": "f6cdd768",
   "metadata": {},
   "outputs": [],
   "source": [
    "train_data = packed_dataset\n",
    "val_data = packed_val_dataset\n",
    "\n",
    "# Define the Keras TensorBoard callback.\n",
    "logdir=\"./logs/\" + datetime.now().strftime(\"%Y%m%d-%H%M%S\")\n",
    "tensorboard_callback = tf.keras.callbacks.TensorBoard(log_dir=logdir)"
   ]
  },
  {
   "cell_type": "markdown",
   "id": "171b2f74",
   "metadata": {},
   "source": [
    "7. 학습을 수행합니다. 아래 함수의 매개변수 설명은 Keras 또는 Tensorflow 공식 문서를 참고하시기 바랍니다."
   ]
  },
  {
   "cell_type": "code",
   "execution_count": 7,
   "id": "ebc23e4a",
   "metadata": {
    "scrolled": true
   },
   "outputs": [
    {
     "name": "stdout",
     "output_type": "stream",
     "text": [
      "Epoch 1/120\n"
     ]
    },
    {
     "name": "stderr",
     "output_type": "stream",
     "text": [
      "c:\\Users\\UnLab\\anaconda3\\envs\\ws\\lib\\site-packages\\keras\\backend.py:5673: UserWarning: \"`binary_crossentropy` received `from_logits=True`, but the `output` argument was produced by a Sigmoid activation and thus does not represent logits. Was this intended?\n",
      "  output, from_logits = _get_logits(\n"
     ]
    },
    {
     "name": "stdout",
     "output_type": "stream",
     "text": [
      "1164/1164 - 7s - loss: 0.7914 - accuracy: 0.3606 - val_loss: 0.6761 - val_accuracy: 0.5928 - 7s/epoch - 6ms/step\n",
      "Epoch 2/120\n",
      "1164/1164 - 2s - loss: 0.5960 - accuracy: 0.8165 - val_loss: 0.5268 - val_accuracy: 0.8476 - 2s/epoch - 2ms/step\n",
      "Epoch 3/120\n",
      "1164/1164 - 2s - loss: 0.4636 - accuracy: 0.8625 - val_loss: 0.4213 - val_accuracy: 0.8811 - 2s/epoch - 2ms/step\n",
      "Epoch 4/120\n",
      "1164/1164 - 2s - loss: 0.3701 - accuracy: 0.9010 - val_loss: 0.3464 - val_accuracy: 0.9366 - 2s/epoch - 2ms/step\n",
      "Epoch 5/120\n",
      "1164/1164 - 2s - loss: 0.3051 - accuracy: 0.9435 - val_loss: 0.2941 - val_accuracy: 0.9423 - 2s/epoch - 2ms/step\n",
      "Epoch 6/120\n",
      "1164/1164 - 2s - loss: 0.2602 - accuracy: 0.9458 - val_loss: 0.2574 - val_accuracy: 0.9437 - 2s/epoch - 2ms/step\n",
      "Epoch 7/120\n",
      "1164/1164 - 2s - loss: 0.2292 - accuracy: 0.9483 - val_loss: 0.2322 - val_accuracy: 0.9483 - 2s/epoch - 2ms/step\n",
      "Epoch 8/120\n",
      "1164/1164 - 2s - loss: 0.2083 - accuracy: 0.9514 - val_loss: 0.2150 - val_accuracy: 0.9545 - 2s/epoch - 2ms/step\n",
      "Epoch 9/120\n",
      "1164/1164 - 2s - loss: 0.1939 - accuracy: 0.9545 - val_loss: 0.2027 - val_accuracy: 0.9554 - 2s/epoch - 2ms/step\n",
      "Epoch 10/120\n",
      "1164/1164 - 2s - loss: 0.1838 - accuracy: 0.9555 - val_loss: 0.1942 - val_accuracy: 0.9554 - 2s/epoch - 2ms/step\n",
      "Epoch 11/120\n",
      "1164/1164 - 2s - loss: 0.1765 - accuracy: 0.9557 - val_loss: 0.1875 - val_accuracy: 0.9558 - 2s/epoch - 2ms/step\n",
      "Epoch 12/120\n",
      "1164/1164 - 2s - loss: 0.1709 - accuracy: 0.9557 - val_loss: 0.1824 - val_accuracy: 0.9563 - 2s/epoch - 2ms/step\n",
      "Epoch 13/120\n",
      "1164/1164 - 2s - loss: 0.1665 - accuracy: 0.9561 - val_loss: 0.1784 - val_accuracy: 0.9563 - 2s/epoch - 2ms/step\n",
      "Epoch 14/120\n",
      "1164/1164 - 2s - loss: 0.1630 - accuracy: 0.9567 - val_loss: 0.1752 - val_accuracy: 0.9571 - 2s/epoch - 2ms/step\n",
      "Epoch 15/120\n",
      "1164/1164 - 2s - loss: 0.1601 - accuracy: 0.9573 - val_loss: 0.1724 - val_accuracy: 0.9571 - 2s/epoch - 2ms/step\n",
      "Epoch 16/120\n",
      "1164/1164 - 2s - loss: 0.1577 - accuracy: 0.9575 - val_loss: 0.1700 - val_accuracy: 0.9571 - 2s/epoch - 2ms/step\n",
      "Epoch 17/120\n",
      "1164/1164 - 2s - loss: 0.1555 - accuracy: 0.9578 - val_loss: 0.1680 - val_accuracy: 0.9571 - 2s/epoch - 2ms/step\n",
      "Epoch 18/120\n",
      "1164/1164 - 2s - loss: 0.1537 - accuracy: 0.9577 - val_loss: 0.1661 - val_accuracy: 0.9571 - 2s/epoch - 2ms/step\n",
      "Epoch 19/120\n",
      "1164/1164 - 2s - loss: 0.1520 - accuracy: 0.9580 - val_loss: 0.1644 - val_accuracy: 0.9572 - 2s/epoch - 2ms/step\n",
      "Epoch 20/120\n",
      "1164/1164 - 2s - loss: 0.1504 - accuracy: 0.9580 - val_loss: 0.1629 - val_accuracy: 0.9572 - 2s/epoch - 2ms/step\n",
      "Epoch 21/120\n",
      "1164/1164 - 2s - loss: 0.1490 - accuracy: 0.9581 - val_loss: 0.1615 - val_accuracy: 0.9572 - 2s/epoch - 2ms/step\n",
      "Epoch 22/120\n",
      "1164/1164 - 2s - loss: 0.1477 - accuracy: 0.9581 - val_loss: 0.1603 - val_accuracy: 0.9572 - 2s/epoch - 2ms/step\n",
      "Epoch 23/120\n",
      "1164/1164 - 2s - loss: 0.1466 - accuracy: 0.9581 - val_loss: 0.1591 - val_accuracy: 0.9572 - 2s/epoch - 2ms/step\n",
      "Epoch 24/120\n",
      "1164/1164 - 2s - loss: 0.1455 - accuracy: 0.9581 - val_loss: 0.1579 - val_accuracy: 0.9572 - 2s/epoch - 2ms/step\n",
      "Epoch 25/120\n",
      "1164/1164 - 2s - loss: 0.1444 - accuracy: 0.9583 - val_loss: 0.1568 - val_accuracy: 0.9574 - 2s/epoch - 2ms/step\n",
      "Epoch 26/120\n",
      "1164/1164 - 2s - loss: 0.1434 - accuracy: 0.9585 - val_loss: 0.1558 - val_accuracy: 0.9574 - 2s/epoch - 2ms/step\n",
      "Epoch 27/120\n",
      "1164/1164 - 2s - loss: 0.1424 - accuracy: 0.9586 - val_loss: 0.1549 - val_accuracy: 0.9574 - 2s/epoch - 2ms/step\n",
      "Epoch 28/120\n",
      "1164/1164 - 2s - loss: 0.1415 - accuracy: 0.9587 - val_loss: 0.1539 - val_accuracy: 0.9576 - 2s/epoch - 2ms/step\n",
      "Epoch 29/120\n",
      "1164/1164 - 2s - loss: 0.1406 - accuracy: 0.9596 - val_loss: 0.1530 - val_accuracy: 0.9576 - 2s/epoch - 2ms/step\n",
      "Epoch 30/120\n",
      "1164/1164 - 2s - loss: 0.1398 - accuracy: 0.9627 - val_loss: 0.1522 - val_accuracy: 0.9623 - 2s/epoch - 2ms/step\n",
      "Epoch 31/120\n",
      "1164/1164 - 2s - loss: 0.1390 - accuracy: 0.9643 - val_loss: 0.1514 - val_accuracy: 0.9621 - 2s/epoch - 2ms/step\n",
      "Epoch 32/120\n",
      "1164/1164 - 2s - loss: 0.1383 - accuracy: 0.9643 - val_loss: 0.1507 - val_accuracy: 0.9621 - 2s/epoch - 2ms/step\n",
      "Epoch 33/120\n",
      "1164/1164 - 2s - loss: 0.1376 - accuracy: 0.9644 - val_loss: 0.1499 - val_accuracy: 0.9621 - 2s/epoch - 2ms/step\n",
      "Epoch 34/120\n",
      "1164/1164 - 2s - loss: 0.1369 - accuracy: 0.9644 - val_loss: 0.1492 - val_accuracy: 0.9621 - 2s/epoch - 2ms/step\n",
      "Epoch 35/120\n",
      "1164/1164 - 2s - loss: 0.1362 - accuracy: 0.9644 - val_loss: 0.1485 - val_accuracy: 0.9621 - 2s/epoch - 2ms/step\n",
      "Epoch 36/120\n",
      "1164/1164 - 2s - loss: 0.1355 - accuracy: 0.9644 - val_loss: 0.1478 - val_accuracy: 0.9620 - 2s/epoch - 2ms/step\n",
      "Epoch 37/120\n",
      "1164/1164 - 2s - loss: 0.1349 - accuracy: 0.9645 - val_loss: 0.1472 - val_accuracy: 0.9620 - 2s/epoch - 2ms/step\n",
      "Epoch 38/120\n",
      "1164/1164 - 2s - loss: 0.1343 - accuracy: 0.9645 - val_loss: 0.1467 - val_accuracy: 0.9620 - 2s/epoch - 2ms/step\n",
      "Epoch 39/120\n",
      "1164/1164 - 2s - loss: 0.1337 - accuracy: 0.9644 - val_loss: 0.1461 - val_accuracy: 0.9620 - 2s/epoch - 2ms/step\n",
      "Epoch 40/120\n",
      "1164/1164 - 2s - loss: 0.1331 - accuracy: 0.9646 - val_loss: 0.1455 - val_accuracy: 0.9620 - 2s/epoch - 2ms/step\n",
      "Epoch 41/120\n",
      "1164/1164 - 2s - loss: 0.1326 - accuracy: 0.9645 - val_loss: 0.1449 - val_accuracy: 0.9620 - 2s/epoch - 2ms/step\n",
      "Epoch 42/120\n",
      "1164/1164 - 2s - loss: 0.1321 - accuracy: 0.9646 - val_loss: 0.1443 - val_accuracy: 0.9620 - 2s/epoch - 2ms/step\n",
      "Epoch 43/120\n",
      "1164/1164 - 2s - loss: 0.1316 - accuracy: 0.9647 - val_loss: 0.1438 - val_accuracy: 0.9618 - 2s/epoch - 2ms/step\n",
      "Epoch 44/120\n",
      "1164/1164 - 2s - loss: 0.1310 - accuracy: 0.9652 - val_loss: 0.1432 - val_accuracy: 0.9620 - 2s/epoch - 2ms/step\n",
      "Epoch 45/120\n",
      "1164/1164 - 2s - loss: 0.1305 - accuracy: 0.9655 - val_loss: 0.1429 - val_accuracy: 0.9618 - 2s/epoch - 2ms/step\n",
      "Epoch 46/120\n",
      "1164/1164 - 2s - loss: 0.1301 - accuracy: 0.9656 - val_loss: 0.1422 - val_accuracy: 0.9624 - 2s/epoch - 2ms/step\n",
      "Epoch 47/120\n",
      "1164/1164 - 2s - loss: 0.1296 - accuracy: 0.9655 - val_loss: 0.1417 - val_accuracy: 0.9624 - 2s/epoch - 2ms/step\n",
      "Epoch 48/120\n",
      "1164/1164 - 2s - loss: 0.1291 - accuracy: 0.9653 - val_loss: 0.1413 - val_accuracy: 0.9624 - 2s/epoch - 2ms/step\n",
      "Epoch 49/120\n",
      "1164/1164 - 2s - loss: 0.1287 - accuracy: 0.9654 - val_loss: 0.1408 - val_accuracy: 0.9624 - 2s/epoch - 2ms/step\n",
      "Epoch 50/120\n",
      "1164/1164 - 2s - loss: 0.1283 - accuracy: 0.9652 - val_loss: 0.1404 - val_accuracy: 0.9624 - 2s/epoch - 2ms/step\n",
      "Epoch 51/120\n",
      "1164/1164 - 2s - loss: 0.1279 - accuracy: 0.9652 - val_loss: 0.1400 - val_accuracy: 0.9624 - 2s/epoch - 2ms/step\n",
      "Epoch 52/120\n",
      "1164/1164 - 2s - loss: 0.1275 - accuracy: 0.9653 - val_loss: 0.1395 - val_accuracy: 0.9624 - 2s/epoch - 2ms/step\n",
      "Epoch 53/120\n",
      "1164/1164 - 2s - loss: 0.1271 - accuracy: 0.9653 - val_loss: 0.1392 - val_accuracy: 0.9624 - 2s/epoch - 2ms/step\n",
      "Epoch 54/120\n",
      "1164/1164 - 2s - loss: 0.1268 - accuracy: 0.9650 - val_loss: 0.1388 - val_accuracy: 0.9624 - 2s/epoch - 2ms/step\n",
      "Epoch 55/120\n",
      "1164/1164 - 2s - loss: 0.1263 - accuracy: 0.9648 - val_loss: 0.1384 - val_accuracy: 0.9624 - 2s/epoch - 2ms/step\n",
      "Epoch 56/120\n",
      "1164/1164 - 2s - loss: 0.1259 - accuracy: 0.9648 - val_loss: 0.1379 - val_accuracy: 0.9624 - 2s/epoch - 2ms/step\n",
      "Epoch 57/120\n",
      "1164/1164 - 2s - loss: 0.1255 - accuracy: 0.9651 - val_loss: 0.1376 - val_accuracy: 0.9626 - 2s/epoch - 2ms/step\n",
      "Epoch 58/120\n",
      "1164/1164 - 2s - loss: 0.1253 - accuracy: 0.9653 - val_loss: 0.1372 - val_accuracy: 0.9628 - 2s/epoch - 2ms/step\n",
      "Epoch 59/120\n",
      "1164/1164 - 2s - loss: 0.1249 - accuracy: 0.9648 - val_loss: 0.1369 - val_accuracy: 0.9628 - 2s/epoch - 2ms/step\n",
      "Epoch 60/120\n",
      "1164/1164 - 2s - loss: 0.1245 - accuracy: 0.9649 - val_loss: 0.1365 - val_accuracy: 0.9628 - 2s/epoch - 2ms/step\n",
      "Epoch 61/120\n",
      "1164/1164 - 2s - loss: 0.1243 - accuracy: 0.9649 - val_loss: 0.1361 - val_accuracy: 0.9628 - 2s/epoch - 2ms/step\n",
      "Epoch 62/120\n",
      "1164/1164 - 2s - loss: 0.1239 - accuracy: 0.9650 - val_loss: 0.1357 - val_accuracy: 0.9628 - 2s/epoch - 2ms/step\n",
      "Epoch 63/120\n",
      "1164/1164 - 2s - loss: 0.1235 - accuracy: 0.9648 - val_loss: 0.1353 - val_accuracy: 0.9628 - 2s/epoch - 2ms/step\n",
      "Epoch 64/120\n",
      "1164/1164 - 2s - loss: 0.1233 - accuracy: 0.9648 - val_loss: 0.1351 - val_accuracy: 0.9628 - 2s/epoch - 2ms/step\n",
      "Epoch 65/120\n"
     ]
    },
    {
     "ename": "KeyboardInterrupt",
     "evalue": "",
     "output_type": "error",
     "traceback": [
      "\u001b[1;31m---------------------------------------------------------------------------\u001b[0m",
      "\u001b[1;31mKeyboardInterrupt\u001b[0m                         Traceback (most recent call last)",
      "Cell \u001b[1;32mIn [7], line 1\u001b[0m\n\u001b[1;32m----> 1\u001b[0m history \u001b[39m=\u001b[39m model\u001b[39m.\u001b[39;49mfit(train_data, epochs\u001b[39m=\u001b[39;49m\u001b[39m120\u001b[39;49m, validation_data \u001b[39m=\u001b[39;49m val_data,verbose \u001b[39m=\u001b[39;49m \u001b[39m2\u001b[39;49m, use_multiprocessing\u001b[39m=\u001b[39;49m\u001b[39mTrue\u001b[39;49;00m, workers\u001b[39m=\u001b[39;49m\u001b[39m8\u001b[39;49m, callbacks\u001b[39m=\u001b[39;49m[tensorboard_callback],shuffle\u001b[39m=\u001b[39;49m\u001b[39mTrue\u001b[39;49;00m)\n",
      "File \u001b[1;32mc:\\Users\\UnLab\\anaconda3\\envs\\ws\\lib\\site-packages\\keras\\utils\\traceback_utils.py:65\u001b[0m, in \u001b[0;36mfilter_traceback.<locals>.error_handler\u001b[1;34m(*args, **kwargs)\u001b[0m\n\u001b[0;32m     63\u001b[0m filtered_tb \u001b[39m=\u001b[39m \u001b[39mNone\u001b[39;00m\n\u001b[0;32m     64\u001b[0m \u001b[39mtry\u001b[39;00m:\n\u001b[1;32m---> 65\u001b[0m     \u001b[39mreturn\u001b[39;00m fn(\u001b[39m*\u001b[39margs, \u001b[39m*\u001b[39m\u001b[39m*\u001b[39mkwargs)\n\u001b[0;32m     66\u001b[0m \u001b[39mexcept\u001b[39;00m \u001b[39mException\u001b[39;00m \u001b[39mas\u001b[39;00m e:\n\u001b[0;32m     67\u001b[0m     filtered_tb \u001b[39m=\u001b[39m _process_traceback_frames(e\u001b[39m.\u001b[39m__traceback__)\n",
      "File \u001b[1;32mc:\\Users\\UnLab\\anaconda3\\envs\\ws\\lib\\site-packages\\keras\\engine\\training.py:1606\u001b[0m, in \u001b[0;36mModel.fit\u001b[1;34m(self, x, y, batch_size, epochs, verbose, callbacks, validation_split, validation_data, shuffle, class_weight, sample_weight, initial_epoch, steps_per_epoch, validation_steps, validation_batch_size, validation_freq, max_queue_size, workers, use_multiprocessing)\u001b[0m\n\u001b[0;32m   1591\u001b[0m \u001b[39mif\u001b[39;00m \u001b[39mgetattr\u001b[39m(\u001b[39mself\u001b[39m, \u001b[39m\"\u001b[39m\u001b[39m_eval_data_handler\u001b[39m\u001b[39m\"\u001b[39m, \u001b[39mNone\u001b[39;00m) \u001b[39mis\u001b[39;00m \u001b[39mNone\u001b[39;00m:\n\u001b[0;32m   1592\u001b[0m     \u001b[39mself\u001b[39m\u001b[39m.\u001b[39m_eval_data_handler \u001b[39m=\u001b[39m data_adapter\u001b[39m.\u001b[39mget_data_handler(\n\u001b[0;32m   1593\u001b[0m         x\u001b[39m=\u001b[39mval_x,\n\u001b[0;32m   1594\u001b[0m         y\u001b[39m=\u001b[39mval_y,\n\u001b[1;32m   (...)\u001b[0m\n\u001b[0;32m   1604\u001b[0m         steps_per_execution\u001b[39m=\u001b[39m\u001b[39mself\u001b[39m\u001b[39m.\u001b[39m_steps_per_execution,\n\u001b[0;32m   1605\u001b[0m     )\n\u001b[1;32m-> 1606\u001b[0m val_logs \u001b[39m=\u001b[39m \u001b[39mself\u001b[39;49m\u001b[39m.\u001b[39;49mevaluate(\n\u001b[0;32m   1607\u001b[0m     x\u001b[39m=\u001b[39;49mval_x,\n\u001b[0;32m   1608\u001b[0m     y\u001b[39m=\u001b[39;49mval_y,\n\u001b[0;32m   1609\u001b[0m     sample_weight\u001b[39m=\u001b[39;49mval_sample_weight,\n\u001b[0;32m   1610\u001b[0m     batch_size\u001b[39m=\u001b[39;49mvalidation_batch_size \u001b[39mor\u001b[39;49;00m batch_size,\n\u001b[0;32m   1611\u001b[0m     steps\u001b[39m=\u001b[39;49mvalidation_steps,\n\u001b[0;32m   1612\u001b[0m     callbacks\u001b[39m=\u001b[39;49mcallbacks,\n\u001b[0;32m   1613\u001b[0m     max_queue_size\u001b[39m=\u001b[39;49mmax_queue_size,\n\u001b[0;32m   1614\u001b[0m     workers\u001b[39m=\u001b[39;49mworkers,\n\u001b[0;32m   1615\u001b[0m     use_multiprocessing\u001b[39m=\u001b[39;49muse_multiprocessing,\n\u001b[0;32m   1616\u001b[0m     return_dict\u001b[39m=\u001b[39;49m\u001b[39mTrue\u001b[39;49;00m,\n\u001b[0;32m   1617\u001b[0m     _use_cached_eval_dataset\u001b[39m=\u001b[39;49m\u001b[39mTrue\u001b[39;49;00m,\n\u001b[0;32m   1618\u001b[0m )\n\u001b[0;32m   1619\u001b[0m val_logs \u001b[39m=\u001b[39m {\n\u001b[0;32m   1620\u001b[0m     \u001b[39m\"\u001b[39m\u001b[39mval_\u001b[39m\u001b[39m\"\u001b[39m \u001b[39m+\u001b[39m name: val \u001b[39mfor\u001b[39;00m name, val \u001b[39min\u001b[39;00m val_logs\u001b[39m.\u001b[39mitems()\n\u001b[0;32m   1621\u001b[0m }\n\u001b[0;32m   1622\u001b[0m epoch_logs\u001b[39m.\u001b[39mupdate(val_logs)\n",
      "File \u001b[1;32mc:\\Users\\UnLab\\anaconda3\\envs\\ws\\lib\\site-packages\\keras\\utils\\traceback_utils.py:65\u001b[0m, in \u001b[0;36mfilter_traceback.<locals>.error_handler\u001b[1;34m(*args, **kwargs)\u001b[0m\n\u001b[0;32m     63\u001b[0m filtered_tb \u001b[39m=\u001b[39m \u001b[39mNone\u001b[39;00m\n\u001b[0;32m     64\u001b[0m \u001b[39mtry\u001b[39;00m:\n\u001b[1;32m---> 65\u001b[0m     \u001b[39mreturn\u001b[39;00m fn(\u001b[39m*\u001b[39margs, \u001b[39m*\u001b[39m\u001b[39m*\u001b[39mkwargs)\n\u001b[0;32m     66\u001b[0m \u001b[39mexcept\u001b[39;00m \u001b[39mException\u001b[39;00m \u001b[39mas\u001b[39;00m e:\n\u001b[0;32m     67\u001b[0m     filtered_tb \u001b[39m=\u001b[39m _process_traceback_frames(e\u001b[39m.\u001b[39m__traceback__)\n",
      "File \u001b[1;32mc:\\Users\\UnLab\\anaconda3\\envs\\ws\\lib\\site-packages\\keras\\engine\\training.py:1947\u001b[0m, in \u001b[0;36mModel.evaluate\u001b[1;34m(self, x, y, batch_size, verbose, sample_weight, steps, callbacks, max_queue_size, workers, use_multiprocessing, return_dict, **kwargs)\u001b[0m\n\u001b[0;32m   1943\u001b[0m \u001b[39mwith\u001b[39;00m tf\u001b[39m.\u001b[39mprofiler\u001b[39m.\u001b[39mexperimental\u001b[39m.\u001b[39mTrace(\n\u001b[0;32m   1944\u001b[0m     \u001b[39m\"\u001b[39m\u001b[39mtest\u001b[39m\u001b[39m\"\u001b[39m, step_num\u001b[39m=\u001b[39mstep, _r\u001b[39m=\u001b[39m\u001b[39m1\u001b[39m\n\u001b[0;32m   1945\u001b[0m ):\n\u001b[0;32m   1946\u001b[0m     callbacks\u001b[39m.\u001b[39mon_test_batch_begin(step)\n\u001b[1;32m-> 1947\u001b[0m     tmp_logs \u001b[39m=\u001b[39m \u001b[39mself\u001b[39;49m\u001b[39m.\u001b[39;49mtest_function(iterator)\n\u001b[0;32m   1948\u001b[0m     \u001b[39mif\u001b[39;00m data_handler\u001b[39m.\u001b[39mshould_sync:\n\u001b[0;32m   1949\u001b[0m         context\u001b[39m.\u001b[39masync_wait()\n",
      "File \u001b[1;32mc:\\Users\\UnLab\\anaconda3\\envs\\ws\\lib\\site-packages\\tensorflow\\python\\util\\traceback_utils.py:150\u001b[0m, in \u001b[0;36mfilter_traceback.<locals>.error_handler\u001b[1;34m(*args, **kwargs)\u001b[0m\n\u001b[0;32m    148\u001b[0m filtered_tb \u001b[39m=\u001b[39m \u001b[39mNone\u001b[39;00m\n\u001b[0;32m    149\u001b[0m \u001b[39mtry\u001b[39;00m:\n\u001b[1;32m--> 150\u001b[0m   \u001b[39mreturn\u001b[39;00m fn(\u001b[39m*\u001b[39margs, \u001b[39m*\u001b[39m\u001b[39m*\u001b[39mkwargs)\n\u001b[0;32m    151\u001b[0m \u001b[39mexcept\u001b[39;00m \u001b[39mException\u001b[39;00m \u001b[39mas\u001b[39;00m e:\n\u001b[0;32m    152\u001b[0m   filtered_tb \u001b[39m=\u001b[39m _process_traceback_frames(e\u001b[39m.\u001b[39m__traceback__)\n",
      "File \u001b[1;32mc:\\Users\\UnLab\\anaconda3\\envs\\ws\\lib\\site-packages\\tensorflow\\python\\eager\\def_function.py:915\u001b[0m, in \u001b[0;36mFunction.__call__\u001b[1;34m(self, *args, **kwds)\u001b[0m\n\u001b[0;32m    912\u001b[0m compiler \u001b[39m=\u001b[39m \u001b[39m\"\u001b[39m\u001b[39mxla\u001b[39m\u001b[39m\"\u001b[39m \u001b[39mif\u001b[39;00m \u001b[39mself\u001b[39m\u001b[39m.\u001b[39m_jit_compile \u001b[39melse\u001b[39;00m \u001b[39m\"\u001b[39m\u001b[39mnonXla\u001b[39m\u001b[39m\"\u001b[39m\n\u001b[0;32m    914\u001b[0m \u001b[39mwith\u001b[39;00m OptionalXlaContext(\u001b[39mself\u001b[39m\u001b[39m.\u001b[39m_jit_compile):\n\u001b[1;32m--> 915\u001b[0m   result \u001b[39m=\u001b[39m \u001b[39mself\u001b[39m\u001b[39m.\u001b[39m_call(\u001b[39m*\u001b[39margs, \u001b[39m*\u001b[39m\u001b[39m*\u001b[39mkwds)\n\u001b[0;32m    917\u001b[0m new_tracing_count \u001b[39m=\u001b[39m \u001b[39mself\u001b[39m\u001b[39m.\u001b[39mexperimental_get_tracing_count()\n\u001b[0;32m    918\u001b[0m without_tracing \u001b[39m=\u001b[39m (tracing_count \u001b[39m==\u001b[39m new_tracing_count)\n",
      "File \u001b[1;32mc:\\Users\\UnLab\\anaconda3\\envs\\ws\\lib\\site-packages\\tensorflow\\python\\eager\\def_function.py:954\u001b[0m, in \u001b[0;36mFunction._call\u001b[1;34m(self, *args, **kwds)\u001b[0m\n\u001b[0;32m    951\u001b[0m \u001b[39mself\u001b[39m\u001b[39m.\u001b[39m_lock\u001b[39m.\u001b[39mrelease()\n\u001b[0;32m    952\u001b[0m \u001b[39m# In this case we have not created variables on the first call. So we can\u001b[39;00m\n\u001b[0;32m    953\u001b[0m \u001b[39m# run the first trace but we should fail if variables are created.\u001b[39;00m\n\u001b[1;32m--> 954\u001b[0m results \u001b[39m=\u001b[39m \u001b[39mself\u001b[39m\u001b[39m.\u001b[39m_stateful_fn(\u001b[39m*\u001b[39margs, \u001b[39m*\u001b[39m\u001b[39m*\u001b[39mkwds)\n\u001b[0;32m    955\u001b[0m \u001b[39mif\u001b[39;00m \u001b[39mself\u001b[39m\u001b[39m.\u001b[39m_created_variables \u001b[39mand\u001b[39;00m \u001b[39mnot\u001b[39;00m ALLOW_DYNAMIC_VARIABLE_CREATION:\n\u001b[0;32m    956\u001b[0m   \u001b[39mraise\u001b[39;00m \u001b[39mValueError\u001b[39;00m(\u001b[39m\"\u001b[39m\u001b[39mCreating variables on a non-first call to a function\u001b[39m\u001b[39m\"\u001b[39m\n\u001b[0;32m    957\u001b[0m                    \u001b[39m\"\u001b[39m\u001b[39m decorated with tf.function.\u001b[39m\u001b[39m\"\u001b[39m)\n",
      "File \u001b[1;32mc:\\Users\\UnLab\\anaconda3\\envs\\ws\\lib\\site-packages\\tensorflow\\python\\eager\\function.py:2496\u001b[0m, in \u001b[0;36mFunction.__call__\u001b[1;34m(self, *args, **kwargs)\u001b[0m\n\u001b[0;32m   2493\u001b[0m \u001b[39mwith\u001b[39;00m \u001b[39mself\u001b[39m\u001b[39m.\u001b[39m_lock:\n\u001b[0;32m   2494\u001b[0m   (graph_function,\n\u001b[0;32m   2495\u001b[0m    filtered_flat_args) \u001b[39m=\u001b[39m \u001b[39mself\u001b[39m\u001b[39m.\u001b[39m_maybe_define_function(args, kwargs)\n\u001b[1;32m-> 2496\u001b[0m \u001b[39mreturn\u001b[39;00m graph_function\u001b[39m.\u001b[39;49m_call_flat(\n\u001b[0;32m   2497\u001b[0m     filtered_flat_args, captured_inputs\u001b[39m=\u001b[39;49mgraph_function\u001b[39m.\u001b[39;49mcaptured_inputs)\n",
      "File \u001b[1;32mc:\\Users\\UnLab\\anaconda3\\envs\\ws\\lib\\site-packages\\tensorflow\\python\\eager\\function.py:1862\u001b[0m, in \u001b[0;36mConcreteFunction._call_flat\u001b[1;34m(self, args, captured_inputs, cancellation_manager)\u001b[0m\n\u001b[0;32m   1858\u001b[0m possible_gradient_type \u001b[39m=\u001b[39m gradients_util\u001b[39m.\u001b[39mPossibleTapeGradientTypes(args)\n\u001b[0;32m   1859\u001b[0m \u001b[39mif\u001b[39;00m (possible_gradient_type \u001b[39m==\u001b[39m gradients_util\u001b[39m.\u001b[39mPOSSIBLE_GRADIENT_TYPES_NONE\n\u001b[0;32m   1860\u001b[0m     \u001b[39mand\u001b[39;00m executing_eagerly):\n\u001b[0;32m   1861\u001b[0m   \u001b[39m# No tape is watching; skip to running the function.\u001b[39;00m\n\u001b[1;32m-> 1862\u001b[0m   \u001b[39mreturn\u001b[39;00m \u001b[39mself\u001b[39m\u001b[39m.\u001b[39m_build_call_outputs(\u001b[39mself\u001b[39;49m\u001b[39m.\u001b[39;49m_inference_function\u001b[39m.\u001b[39;49mcall(\n\u001b[0;32m   1863\u001b[0m       ctx, args, cancellation_manager\u001b[39m=\u001b[39;49mcancellation_manager))\n\u001b[0;32m   1864\u001b[0m forward_backward \u001b[39m=\u001b[39m \u001b[39mself\u001b[39m\u001b[39m.\u001b[39m_select_forward_and_backward_functions(\n\u001b[0;32m   1865\u001b[0m     args,\n\u001b[0;32m   1866\u001b[0m     possible_gradient_type,\n\u001b[0;32m   1867\u001b[0m     executing_eagerly)\n\u001b[0;32m   1868\u001b[0m forward_function, args_with_tangents \u001b[39m=\u001b[39m forward_backward\u001b[39m.\u001b[39mforward()\n",
      "File \u001b[1;32mc:\\Users\\UnLab\\anaconda3\\envs\\ws\\lib\\site-packages\\tensorflow\\python\\eager\\function.py:499\u001b[0m, in \u001b[0;36m_EagerDefinedFunction.call\u001b[1;34m(self, ctx, args, cancellation_manager)\u001b[0m\n\u001b[0;32m    497\u001b[0m \u001b[39mwith\u001b[39;00m _InterpolateFunctionError(\u001b[39mself\u001b[39m):\n\u001b[0;32m    498\u001b[0m   \u001b[39mif\u001b[39;00m cancellation_manager \u001b[39mis\u001b[39;00m \u001b[39mNone\u001b[39;00m:\n\u001b[1;32m--> 499\u001b[0m     outputs \u001b[39m=\u001b[39m execute\u001b[39m.\u001b[39;49mexecute(\n\u001b[0;32m    500\u001b[0m         \u001b[39mstr\u001b[39;49m(\u001b[39mself\u001b[39;49m\u001b[39m.\u001b[39;49msignature\u001b[39m.\u001b[39;49mname),\n\u001b[0;32m    501\u001b[0m         num_outputs\u001b[39m=\u001b[39;49m\u001b[39mself\u001b[39;49m\u001b[39m.\u001b[39;49m_num_outputs,\n\u001b[0;32m    502\u001b[0m         inputs\u001b[39m=\u001b[39;49margs,\n\u001b[0;32m    503\u001b[0m         attrs\u001b[39m=\u001b[39;49mattrs,\n\u001b[0;32m    504\u001b[0m         ctx\u001b[39m=\u001b[39;49mctx)\n\u001b[0;32m    505\u001b[0m   \u001b[39melse\u001b[39;00m:\n\u001b[0;32m    506\u001b[0m     outputs \u001b[39m=\u001b[39m execute\u001b[39m.\u001b[39mexecute_with_cancellation(\n\u001b[0;32m    507\u001b[0m         \u001b[39mstr\u001b[39m(\u001b[39mself\u001b[39m\u001b[39m.\u001b[39msignature\u001b[39m.\u001b[39mname),\n\u001b[0;32m    508\u001b[0m         num_outputs\u001b[39m=\u001b[39m\u001b[39mself\u001b[39m\u001b[39m.\u001b[39m_num_outputs,\n\u001b[1;32m   (...)\u001b[0m\n\u001b[0;32m    511\u001b[0m         ctx\u001b[39m=\u001b[39mctx,\n\u001b[0;32m    512\u001b[0m         cancellation_manager\u001b[39m=\u001b[39mcancellation_manager)\n",
      "File \u001b[1;32mc:\\Users\\UnLab\\anaconda3\\envs\\ws\\lib\\site-packages\\tensorflow\\python\\eager\\execute.py:54\u001b[0m, in \u001b[0;36mquick_execute\u001b[1;34m(op_name, num_outputs, inputs, attrs, ctx, name)\u001b[0m\n\u001b[0;32m     52\u001b[0m \u001b[39mtry\u001b[39;00m:\n\u001b[0;32m     53\u001b[0m   ctx\u001b[39m.\u001b[39mensure_initialized()\n\u001b[1;32m---> 54\u001b[0m   tensors \u001b[39m=\u001b[39m pywrap_tfe\u001b[39m.\u001b[39;49mTFE_Py_Execute(ctx\u001b[39m.\u001b[39;49m_handle, device_name, op_name,\n\u001b[0;32m     55\u001b[0m                                       inputs, attrs, num_outputs)\n\u001b[0;32m     56\u001b[0m \u001b[39mexcept\u001b[39;00m core\u001b[39m.\u001b[39m_NotOkStatusException \u001b[39mas\u001b[39;00m e:\n\u001b[0;32m     57\u001b[0m   \u001b[39mif\u001b[39;00m name \u001b[39mis\u001b[39;00m \u001b[39mnot\u001b[39;00m \u001b[39mNone\u001b[39;00m:\n",
      "\u001b[1;31mKeyboardInterrupt\u001b[0m: "
     ]
    }
   ],
   "source": [
    "history = model.fit(train_data, epochs=120, validation_data = val_data,verbose = 2, use_multiprocessing=True, workers=8, callbacks=[tensorboard_callback],shuffle=True)"
   ]
  },
  {
   "cell_type": "markdown",
   "id": "9ab79f4f",
   "metadata": {},
   "source": [
    "8. 학습이 완료된 후 학습된 모델을 h5 형식으로 저장합니다."
   ]
  },
  {
   "cell_type": "code",
   "execution_count": 8,
   "id": "96ac53a8",
   "metadata": {},
   "outputs": [],
   "source": [
    "model.save(\"HH01.h5\")"
   ]
  },
  {
   "cell_type": "markdown",
   "id": "c5d6346b",
   "metadata": {},
   "source": [
    "9. 학습된 모델의 정확한 검증을 위해 Test데이터를 새롭게 불러옵니다."
   ]
  },
  {
   "cell_type": "code",
   "execution_count": 26,
   "id": "5163bc08",
   "metadata": {},
   "outputs": [],
   "source": [
    "raw_test_data1 = get_dataset(\"./dnn_input/senario1_test.csv\",\n",
    "                           select_columns=SELECT_COLUMNS,\n",
    "                           column_defaults = DEFAULTS)\n",
    "raw_test_data2 = get_dataset(\"./dnn_input/senario2_test.csv\",\n",
    "                           select_columns=SELECT_COLUMNS,\n",
    "                           column_defaults = DEFAULTS)\n",
    "raw_test_data3 = get_dataset(\"./dnn_input/senario3_test.csv\",\n",
    "                           select_columns=SELECT_COLUMNS,\n",
    "                           column_defaults = DEFAULTS)\n",
    "raw_test_data4 = get_dataset(\"./dnn_input/senario4_test.csv\",\n",
    "                           select_columns=SELECT_COLUMNS,\n",
    "                           column_defaults = DEFAULTS)\n",
    "raw_test_data5 = get_dataset(\"./dnn_input/senario5_test.csv\",\n",
    "                           select_columns=SELECT_COLUMNS,\n",
    "                           column_defaults = DEFAULTS)\n",
    "raw_test_data6 = get_dataset(\"./dnn_input/senario6_test.csv\",\n",
    "                           select_columns=SELECT_COLUMNS,\n",
    "                           column_defaults = DEFAULTS)\n",
    "\n",
    "test_batch1, test_labels_batch1 = next(iter(raw_test_data1))\n",
    "packed_test_dataset1 = raw_test_data1.map(pack)\n",
    "\n",
    "test_batch2, test_labels_batch2 = next(iter(raw_test_data2))\n",
    "packed_test_dataset2 = raw_test_data2.map(pack)\n",
    "\n",
    "test_batch3, test_labels_batch3 = next(iter(raw_test_data3))\n",
    "packed_test_dataset3 = raw_test_data3.map(pack)\n",
    "\n",
    "test_batch4, test_labels_batch4 = next(iter(raw_test_data4))\n",
    "packed_test_dataset4 = raw_test_data4.map(pack)\n",
    "\n",
    "test_batch5, test_labels_batch5 = next(iter(raw_test_data5))\n",
    "packed_test_dataset5 = raw_test_data5.map(pack)\n",
    "\n",
    "test_batch6, test_labels_batch6 = next(iter(raw_test_data6))\n",
    "packed_test_dataset6 = raw_test_data6.map(pack)\n"
   ]
  },
  {
   "cell_type": "markdown",
   "id": "a31cfd96",
   "metadata": {},
   "source": [
    "10. Test데이터를 기반으로 예측을 수행하고 통합 결과를 출력합니다."
   ]
  },
  {
   "cell_type": "code",
   "execution_count": 31,
   "id": "8621af6a",
   "metadata": {},
   "outputs": [
    {
     "name": "stdout",
     "output_type": "stream",
     "text": [
      "34/34 [==============================] - 0s 1ms/step - loss: 0.5977 - accuracy: 0.7927\n",
      "Test Loss 0.5977470874786377, Test Accuracy 0.792682945728302\n",
      "\n",
      "23/23 [==============================] - 0s 1ms/step - loss: 0.0219 - accuracy: 1.0000\n",
      "Test Loss 0.0219393502920866, Test Accuracy 1.0\n",
      "\n",
      "31/31 [==============================] - 0s 1ms/step - loss: 0.0452 - accuracy: 0.9990\n",
      "Test Loss 0.04519135504961014, Test Accuracy 0.9989733099937439\n",
      "\n",
      "43/43 [==============================] - 0s 1ms/step - loss: 0.0236 - accuracy: 1.0000\n",
      "Test Loss 0.02355482615530491, Test Accuracy 1.0\n",
      "\n",
      "32/32 [==============================] - 0s 1ms/step - loss: 0.0412 - accuracy: 0.9960\n",
      "Test Loss 0.04120224714279175, Test Accuracy 0.9960317611694336\n",
      "\n",
      "28/28 [==============================] - 0s 1ms/step - loss: 0.0332 - accuracy: 1.0000\n",
      "Test Loss 0.03318975493311882, Test Accuracy 1.0\n",
      "\n"
     ]
    }
   ],
   "source": [
    "test_loss1, test_accuracy1 = model.evaluate(packed_test_dataset1)\n",
    "\n",
    "print('Test Loss {}, Test Accuracy {}\\n'.format(test_loss1, test_accuracy1))\n",
    "\n",
    "test_loss2, test_accuracy2 = model.evaluate(packed_test_dataset2)\n",
    "\n",
    "print('Test Loss {}, Test Accuracy {}\\n'.format(test_loss2, test_accuracy2))\n",
    "\n",
    "test_loss3, test_accuracy3 = model.evaluate(packed_test_dataset3)\n",
    "\n",
    "print('Test Loss {}, Test Accuracy {}\\n'.format(test_loss3, test_accuracy3))\n",
    "\n",
    "test_loss4, test_accuracy4 = model.evaluate(packed_test_dataset4)\n",
    "\n",
    "print('Test Loss {}, Test Accuracy {}\\n'.format(test_loss4, test_accuracy4))\n",
    "\n",
    "test_loss5, test_accuracy5 = model.evaluate(packed_test_dataset5)\n",
    "\n",
    "print('Test Loss {}, Test Accuracy {}\\n'.format(test_loss5, test_accuracy5))\n",
    "\n",
    "test_loss6, test_accuracy6 = model.evaluate(packed_test_dataset6)\n",
    "\n",
    "print('Test Loss {}, Test Accuracy {}\\n'.format(test_loss6, test_accuracy6))"
   ]
  },
  {
   "cell_type": "markdown",
   "id": "9cb160e6",
   "metadata": {},
   "source": [
    "11. 학습 결과를 그래프로 출력합니다."
   ]
  },
  {
   "cell_type": "code",
   "execution_count": 32,
   "id": "b3451b65",
   "metadata": {},
   "outputs": [
    {
     "data": {
      "image/png": "[encoded data removed]",
      "text/plain": [
       "<Figure size 640x480 with 1 Axes>"
      ]
     },
     "metadata": {},
     "output_type": "display_data"
    },
    {
     "data": {
      "image/png": "[encoded data removed]",
      "text/plain": [
       "<Figure size 640x480 with 1 Axes>"
      ]
     },
     "metadata": {},
     "output_type": "display_data"
    }
   ],
   "source": [
    "import matplotlib.pyplot as plt\n",
    "\n",
    "#print(history.history)\n",
    "\n",
    "plt.plot(history.history['accuracy'])\n",
    "plt.plot(history.history['val_accuracy'])\n",
    "plt.title('Model accuracy')\n",
    "plt.xlabel('Epoch')\n",
    "plt.ylabel('Accuracy')\n",
    "plt.legend(['Train', 'Validation'], loc='upper left')\n",
    "plt.show()\n",
    "\n",
    "plt.plot(history.history['loss'])\n",
    "plt.plot(history.history['val_loss'])\n",
    "plt.title('Model loss')\n",
    "plt.xlabel('Epoch')\n",
    "plt.ylabel('Loss')\n",
    "plt.legend(['Train', 'Validation'], loc='upper left')\n",
    "plt.show()"
   ]
  },
  {
   "cell_type": "markdown",
   "id": "65bfbf1e",
   "metadata": {},
   "source": []
  },
  {
   "cell_type": "code",
   "execution_count": null,
   "id": "90313ac7",
   "metadata": {},
   "outputs": [],
   "source": []
  }
 ],
 "metadata": {
  "kernelspec": {
   "display_name": "Python 3.9.12 ('ws')",
   "language": "python",
   "name": "python3"
  },
  "language_info": {
   "codemirror_mode": {
    "name": "ipython",
    "version": 3
   },
   "file_extension": ".py",
   "mimetype": "text/x-python",
   "name": "python",
   "nbconvert_exporter": "python",
   "pygments_lexer": "ipython3",
   "version": "3.9.12"
  },
  "vscode": {
   "interpreter": {
    "hash": "ea08836d5d6e405e10220cf9cfae21d13cf0ad20d000c897bb31d2efb93c779a"
   }
  }
 },
 "nbformat": 4,
 "nbformat_minor": 5
}
