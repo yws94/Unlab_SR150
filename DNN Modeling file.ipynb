{
 "cells": [
  {
   "cell_type": "markdown",
   "id": "e0134362",
   "metadata": {},
   "source": [
    "1. 라이브러리 importing "
   ]
  },
  {
   "cell_type": "code",
   "execution_count": 1,
   "id": "d020d3d6",
   "metadata": {},
   "outputs": [],
   "source": [
    "import tensorflow as tf\n",
    "import numpy as np\n",
    "from datetime import datetime\n",
    "import csv\n",
    "import os\n",
    "os.environ['TF_CPP_MIN_LOG_LEVEL'] = '2' # 텐서플로에서 ERROR, INFO, WARNING 로그를 출력하는 방법 -> 2 = INFO and WARNING messages are not printed"
   ]
  },
  {
   "cell_type": "markdown",
   "id": "120dfbec",
   "metadata": {},
   "source": [
    "2. 데이터셋 생성을 위한 함수. 본 파일에선 Python generator를 응용한 데이터셋 구성 방법을 사용하였습니다."
   ]
  },
  {
   "cell_type": "code",
   "execution_count": 2,
   "id": "e8f096fb",
   "metadata": {},
   "outputs": [],
   "source": [
    "np.set_printoptions(precision=4, suppress=True) \n",
    "\n",
    "LABEL_COLUMN = 'nlos'\n",
    "LABELS = [0, 1] # 출력결과 NLOS -> 0 or 1\n",
    "\n",
    "def get_dataset(file_path, **kwargs):\n",
    "  dataset = tf.data.experimental.make_csv_dataset(\n",
    "      file_path,\n",
    "      batch_size=32, # batch: 모델의 가중치를 업데이트하는 샘플 단위\n",
    "      label_name=LABEL_COLUMN,\n",
    "      na_value=\"?\", # NA/NaN으로 인식할 문자열\n",
    "      num_epochs=1, # 학습횟수\n",
    "      ignore_errors=True,  #오류를 무시하고 다음 유효 CSV레코드로 이동\n",
    "      shuffle=True, # 입력 셔플 X\n",
    "      **kwargs)\n",
    "  return dataset\n",
    "\n",
    "def show_batch(dataset): #각 열의 항목(배치)를 보여줌\n",
    "  for batch, label in dataset.take(1):\n",
    "    for key, value in batch.items():\n",
    "      print(\"{:20s}: {}\".format(key,value.numpy()))\n",
    "\n",
    "def pack(features, label): #모든 열들을 묶어줌\n",
    "  return tf.stack(list(features.values()), axis=-1), label"
   ]
  },
  {
   "cell_type": "markdown",
   "id": "bc8245c2",
   "metadata": {},
   "source": [
    "3. 위 함수의 매개변수로 전달되는 CSV 파일에서 학습에 사용할 열을 지정합니다."
   ]
  },
  {
   "cell_type": "code",
   "execution_count": 3,
   "id": "d0958370",
   "metadata": {},
   "outputs": [],
   "source": [
    "SELECT_COLUMNS = [\"nlos\",\\\n",
    "                  \"SNR main path 1\", \"SNR main path 2\", \"SNR main path 3\", \"SNR main path 4\",\\\n",
    "                  \"SNR first path 1\",\"SNR first path 2\",\"SNR first path 3\",\"SNR first path 4\",\\\n",
    "                  \"SNR Total 1\",\"SNR Total 2\",\"SNR Total 3\",\"SNR Total 4\",\\\n",
    "                  \"RSSI 1\",\"RSSI 2\",\"RSSI 3\",\"RSSI 4\",\\\n",
    "                  \"CIR main power 1\",\"CIR main power 2\",\"CIR main power 3\",\"CIR main power 4\",\\\n",
    "                  \"CIR first path power 1\",\"CIR first path power 2\",\"CIR first path power3\",\"CIR first path power 4\",\\\n",
    "                  \"Noise variance 1\",\"Noise variance 2\",\"Noise variance 3\",\"Noise variance 4\"]      # 열 이름\n",
    "DEFAULTS       = [0.0,\\\n",
    "                  0.0, 0.0, 0.0, 0.0,\\\n",
    "                  0.0, 0.0, 0.0, 0.0,\\\n",
    "                  0.0, 0.0, 0.0, 0.0,\\\n",
    "                  0.0, 0.0, 0.0, 0.0,\\\n",
    "                  0.0, 0.0, 0.0, 0.0,\\\n",
    "                  0.0, 0.0, 0.0, 0.0,\\\n",
    "                  0.0, 0.0, 0.0, 0.0] # 열 기본 값  설정\n",
    "\n",
    "raw_train_data = get_dataset(\"./dnn_input/new_master_train.csv\", \n",
    "                           select_columns=SELECT_COLUMNS,\n",
    "                           column_defaults = DEFAULTS)\n",
    "raw_val_data = get_dataset(\"./dnn_input/validation.csv\",\n",
    "                           select_columns=SELECT_COLUMNS,\n",
    "                           column_defaults = DEFAULTS)"
   ]
  },
  {
   "cell_type": "markdown",
   "id": "df7bf197",
   "metadata": {},
   "source": [
    "4. 2에서 정의한 함수를 기반으로 데이터 셋을 생성합니다."
   ]
  },
  {
   "cell_type": "code",
   "execution_count": 4,
   "id": "c927d2ee",
   "metadata": {},
   "outputs": [],
   "source": [
    "train_batch, train_labels_batch = next(iter(raw_train_data)) # iter : 반복을 이용해 어떠한 처리를 수행하는 호출가능 객체, next: 반복 수행 요청\n",
    "val_batch, val_labels_batch = next(iter(raw_val_data))\n",
    "# test_batch, test_labels_batch = next(iter(raw_test_data))\n",
    "    \n",
    "packed_dataset = raw_train_data.map(pack)\n",
    "packed_val_dataset = raw_val_data.map(pack)\n",
    "# packed_test_dataset = raw_test_data.map(pack)"
   ]
  },
  {
   "cell_type": "markdown",
   "id": "fa8dc328",
   "metadata": {},
   "source": [
    "5. 딥러닝 모델을 구성합니다. mirrored_strategy 부분은 다수의 GPU를 사용하기 위한 코드로 선택적으로 사용하시면 됩니다."
   ]
  },
  {
   "cell_type": "code",
   "execution_count": 5,
   "id": "b0233a5a",
   "metadata": {},
   "outputs": [
    {
     "name": "stdout",
     "output_type": "stream",
     "text": [
      "WARNING:tensorflow:There are non-GPU devices in `tf.distribute.Strategy`, not using nccl allreduce.\n",
      "INFO:tensorflow:Using MirroredStrategy with devices ('/job:localhost/replica:0/task:0/device:CPU:0',)\n",
      "Model: \"sequential\"\n",
      "_________________________________________________________________\n",
      " Layer (type)                Output Shape              Param #   \n",
      "=================================================================\n",
      " dense (Dense)               (None, 56)                1624      \n",
      "                                                                 \n",
      " dense_1 (Dense)             (None, 112)               6384      \n",
      "                                                                 \n",
      " dense_2 (Dense)             (None, 56)                6328      \n",
      "                                                                 \n",
      " dense_3 (Dense)             (None, 1)                 57        \n",
      "                                                                 \n",
      "=================================================================\n",
      "Total params: 14,393\n",
      "Trainable params: 14,393\n",
      "Non-trainable params: 0\n",
      "_________________________________________________________________\n"
     ]
    }
   ],
   "source": [
    "opt = tf.keras.optimizers.Adadelta(learning_rate=0.001) # Adadelta optimization is a stochastic gradient descent method that is based on adaptive learning rate per dimension\n",
    "\n",
    "mirrored_strategy = tf.distribute.MirroredStrategy()\n",
    "\n",
    "\n",
    "with mirrored_strategy.scope():\n",
    "    model = tf.keras.Sequential([\n",
    "    tf.keras.layers.Input(shape=(28,)),\n",
    "    tf.keras.layers.Dense(56,activation='tanh'), # 노드 수 : 56, input 차원 : 28\n",
    "    tf.keras.layers.Dense(112,activation='tanh'), # 노드 수 : 112, input 차원 : 56\n",
    "    tf.keras.layers.Dense(56, activation='tanh'), # 노드 수 : 56, input 차원 : 112\n",
    "    tf.keras.layers.Dense(1,activation='sigmoid'), # 노드 수 : 1, input 차원 : 56\n",
    "    ])\n",
    "\n",
    "\n",
    "    model.compile(\n",
    "        loss=tf.keras.losses.BinaryCrossentropy(from_logits=True),\n",
    "        optimizer=opt,\n",
    "        metrics=['accuracy'])\n",
    "    \n",
    "model.summary()"
   ]
  },
  {
   "cell_type": "markdown",
   "id": "a61d6bec",
   "metadata": {},
   "source": [
    "6. 학습을 위해 데이터 셋을 한 번 더 지정하고, 실시간으로 학습 상황을 파악하기위해 Tensorboard Callback을 선언합니다."
   ]
  },
  {
   "cell_type": "code",
   "execution_count": 6,
   "id": "f6cdd768",
   "metadata": {},
   "outputs": [],
   "source": [
    "train_data = packed_dataset\n",
    "val_data = packed_val_dataset\n",
    "\n",
    "# Define the Keras TensorBoard callback.\n",
    "logdir=\"./logs/\" + datetime.now().strftime(\"%Y%m%d-%H%M%S\")\n",
    "tensorboard_callback = tf.keras.callbacks.TensorBoard(log_dir=logdir)"
   ]
  },
  {
   "cell_type": "markdown",
   "id": "171b2f74",
   "metadata": {},
   "source": [
    "7. 학습을 수행합니다. 아래 함수의 매개변수 설명은 Keras 또는 Tensorflow 공식 문서를 참고하시기 바랍니다."
   ]
  },
  {
   "cell_type": "code",
   "execution_count": 7,
   "id": "ebc23e4a",
   "metadata": {
    "scrolled": true
   },
   "outputs": [
    {
     "name": "stdout",
     "output_type": "stream",
     "text": [
      "Epoch 1/100\n"
     ]
    },
    {
     "name": "stderr",
     "output_type": "stream",
     "text": [
      "c:\\Users\\UnLab\\anaconda3\\envs\\ws\\lib\\site-packages\\keras\\backend.py:5673: UserWarning: \"`binary_crossentropy` received `from_logits=True`, but the `output` argument was produced by a Sigmoid activation and thus does not represent logits. Was this intended?\n",
      "  output, from_logits = _get_logits(\n"
     ]
    },
    {
     "name": "stdout",
     "output_type": "stream",
     "text": [
      "2223/2223 - 6s - loss: 0.5343 - accuracy: 0.8146 - val_loss: 0.3918 - val_accuracy: 0.9405 - 6s/epoch - 3ms/step\n",
      "Epoch 2/100\n",
      "2223/2223 - 3s - loss: 0.2972 - accuracy: 0.9662 - val_loss: 0.2650 - val_accuracy: 0.9398 - 3s/epoch - 1ms/step\n",
      "Epoch 3/100\n",
      "2223/2223 - 3s - loss: 0.1964 - accuracy: 0.9692 - val_loss: 0.2169 - val_accuracy: 0.9421 - 3s/epoch - 1ms/step\n",
      "Epoch 4/100\n",
      "2223/2223 - 3s - loss: 0.1525 - accuracy: 0.9715 - val_loss: 0.1976 - val_accuracy: 0.9452 - 3s/epoch - 1ms/step\n",
      "Epoch 5/100\n",
      "2223/2223 - 3s - loss: 0.1310 - accuracy: 0.9727 - val_loss: 0.1874 - val_accuracy: 0.9476 - 3s/epoch - 1ms/step\n",
      "Epoch 6/100\n",
      "2223/2223 - 3s - loss: 0.1192 - accuracy: 0.9738 - val_loss: 0.1815 - val_accuracy: 0.9506 - 3s/epoch - 1ms/step\n",
      "Epoch 7/100\n",
      "2223/2223 - 3s - loss: 0.1118 - accuracy: 0.9744 - val_loss: 0.1776 - val_accuracy: 0.9527 - 3s/epoch - 1ms/step\n",
      "Epoch 8/100\n",
      "2223/2223 - 3s - loss: 0.1066 - accuracy: 0.9763 - val_loss: 0.1747 - val_accuracy: 0.9548 - 3s/epoch - 1ms/step\n",
      "Epoch 9/100\n",
      "2223/2223 - 3s - loss: 0.1026 - accuracy: 0.9772 - val_loss: 0.1712 - val_accuracy: 0.9561 - 3s/epoch - 1ms/step\n",
      "Epoch 10/100\n",
      "2223/2223 - 3s - loss: 0.0998 - accuracy: 0.9776 - val_loss: 0.1692 - val_accuracy: 0.9576 - 3s/epoch - 1ms/step\n",
      "Epoch 11/100\n",
      "2223/2223 - 3s - loss: 0.0973 - accuracy: 0.9784 - val_loss: 0.1675 - val_accuracy: 0.9590 - 3s/epoch - 1ms/step\n",
      "Epoch 12/100\n",
      "2223/2223 - 3s - loss: 0.0955 - accuracy: 0.9786 - val_loss: 0.1657 - val_accuracy: 0.9598 - 3s/epoch - 1ms/step\n",
      "Epoch 13/100\n",
      "2223/2223 - 3s - loss: 0.0940 - accuracy: 0.9786 - val_loss: 0.1643 - val_accuracy: 0.9598 - 3s/epoch - 1ms/step\n",
      "Epoch 14/100\n",
      "2223/2223 - 3s - loss: 0.0926 - accuracy: 0.9788 - val_loss: 0.1634 - val_accuracy: 0.9616 - 3s/epoch - 1ms/step\n",
      "Epoch 15/100\n",
      "2223/2223 - 3s - loss: 0.0914 - accuracy: 0.9788 - val_loss: 0.1622 - val_accuracy: 0.9616 - 3s/epoch - 1ms/step\n",
      "Epoch 16/100\n",
      "2223/2223 - 3s - loss: 0.0907 - accuracy: 0.9789 - val_loss: 0.1615 - val_accuracy: 0.9618 - 3s/epoch - 1ms/step\n",
      "Epoch 17/100\n",
      "2223/2223 - 3s - loss: 0.0898 - accuracy: 0.9789 - val_loss: 0.1619 - val_accuracy: 0.9618 - 3s/epoch - 1ms/step\n",
      "Epoch 18/100\n",
      "2223/2223 - 3s - loss: 0.0893 - accuracy: 0.9790 - val_loss: 0.1609 - val_accuracy: 0.9618 - 3s/epoch - 1ms/step\n",
      "Epoch 19/100\n",
      "2223/2223 - 3s - loss: 0.0884 - accuracy: 0.9791 - val_loss: 0.1597 - val_accuracy: 0.9618 - 3s/epoch - 1ms/step\n",
      "Epoch 20/100\n",
      "2223/2223 - 3s - loss: 0.0875 - accuracy: 0.9792 - val_loss: 0.1587 - val_accuracy: 0.9620 - 3s/epoch - 1ms/step\n",
      "Epoch 21/100\n",
      "2223/2223 - 3s - loss: 0.0870 - accuracy: 0.9792 - val_loss: 0.1586 - val_accuracy: 0.9620 - 3s/epoch - 1ms/step\n",
      "Epoch 22/100\n",
      "2223/2223 - 3s - loss: 0.0868 - accuracy: 0.9793 - val_loss: 0.1580 - val_accuracy: 0.9621 - 3s/epoch - 1ms/step\n",
      "Epoch 23/100\n",
      "2223/2223 - 3s - loss: 0.0863 - accuracy: 0.9793 - val_loss: 0.1574 - val_accuracy: 0.9621 - 3s/epoch - 1ms/step\n",
      "Epoch 24/100\n",
      "2223/2223 - 3s - loss: 0.0857 - accuracy: 0.9795 - val_loss: 0.1574 - val_accuracy: 0.9621 - 3s/epoch - 1ms/step\n",
      "Epoch 25/100\n",
      "2223/2223 - 3s - loss: 0.0853 - accuracy: 0.9796 - val_loss: 0.1564 - val_accuracy: 0.9621 - 3s/epoch - 1ms/step\n",
      "Epoch 26/100\n",
      "2223/2223 - 3s - loss: 0.0851 - accuracy: 0.9796 - val_loss: 0.1572 - val_accuracy: 0.9621 - 3s/epoch - 1ms/step\n",
      "Epoch 27/100\n",
      "2223/2223 - 3s - loss: 0.0847 - accuracy: 0.9795 - val_loss: 0.1566 - val_accuracy: 0.9621 - 3s/epoch - 1ms/step\n",
      "Epoch 28/100\n",
      "2223/2223 - 3s - loss: 0.0845 - accuracy: 0.9796 - val_loss: 0.1557 - val_accuracy: 0.9621 - 3s/epoch - 1ms/step\n",
      "Epoch 29/100\n",
      "2223/2223 - 3s - loss: 0.0841 - accuracy: 0.9796 - val_loss: 0.1550 - val_accuracy: 0.9621 - 3s/epoch - 1ms/step\n",
      "Epoch 30/100\n",
      "2223/2223 - 3s - loss: 0.0840 - accuracy: 0.9795 - val_loss: 0.1552 - val_accuracy: 0.9623 - 3s/epoch - 1ms/step\n",
      "Epoch 31/100\n",
      "2223/2223 - 3s - loss: 0.0838 - accuracy: 0.9795 - val_loss: 0.1563 - val_accuracy: 0.9623 - 3s/epoch - 1ms/step\n",
      "Epoch 32/100\n",
      "2223/2223 - 3s - loss: 0.0835 - accuracy: 0.9797 - val_loss: 0.1556 - val_accuracy: 0.9623 - 3s/epoch - 1ms/step\n",
      "Epoch 33/100\n",
      "2223/2223 - 3s - loss: 0.0832 - accuracy: 0.9797 - val_loss: 0.1547 - val_accuracy: 0.9623 - 3s/epoch - 1ms/step\n",
      "Epoch 34/100\n",
      "2223/2223 - 3s - loss: 0.0832 - accuracy: 0.9797 - val_loss: 0.1538 - val_accuracy: 0.9624 - 3s/epoch - 1ms/step\n",
      "Epoch 35/100\n",
      "2223/2223 - 3s - loss: 0.0827 - accuracy: 0.9797 - val_loss: 0.1543 - val_accuracy: 0.9624 - 3s/epoch - 1ms/step\n",
      "Epoch 36/100\n",
      "2223/2223 - 3s - loss: 0.0829 - accuracy: 0.9797 - val_loss: 0.1548 - val_accuracy: 0.9624 - 3s/epoch - 1ms/step\n",
      "Epoch 37/100\n",
      "2223/2223 - 3s - loss: 0.0826 - accuracy: 0.9798 - val_loss: 0.1546 - val_accuracy: 0.9624 - 3s/epoch - 1ms/step\n",
      "Epoch 38/100\n",
      "2223/2223 - 3s - loss: 0.0825 - accuracy: 0.9798 - val_loss: 0.1543 - val_accuracy: 0.9623 - 3s/epoch - 1ms/step\n",
      "Epoch 39/100\n",
      "2223/2223 - 3s - loss: 0.0822 - accuracy: 0.9798 - val_loss: 0.1537 - val_accuracy: 0.9624 - 3s/epoch - 1ms/step\n",
      "Epoch 40/100\n",
      "2223/2223 - 3s - loss: 0.0822 - accuracy: 0.9798 - val_loss: 0.1545 - val_accuracy: 0.9623 - 3s/epoch - 1ms/step\n",
      "Epoch 41/100\n",
      "2223/2223 - 3s - loss: 0.0824 - accuracy: 0.9799 - val_loss: 0.1535 - val_accuracy: 0.9624 - 3s/epoch - 1ms/step\n",
      "Epoch 42/100\n",
      "2223/2223 - 3s - loss: 0.0819 - accuracy: 0.9798 - val_loss: 0.1543 - val_accuracy: 0.9623 - 3s/epoch - 1ms/step\n",
      "Epoch 43/100\n",
      "2223/2223 - 3s - loss: 0.0822 - accuracy: 0.9798 - val_loss: 0.1545 - val_accuracy: 0.9623 - 3s/epoch - 1ms/step\n",
      "Epoch 44/100\n",
      "2223/2223 - 3s - loss: 0.0819 - accuracy: 0.9799 - val_loss: 0.1541 - val_accuracy: 0.9623 - 3s/epoch - 1ms/step\n",
      "Epoch 45/100\n",
      "2223/2223 - 3s - loss: 0.0821 - accuracy: 0.9799 - val_loss: 0.1537 - val_accuracy: 0.9623 - 3s/epoch - 1ms/step\n",
      "Epoch 46/100\n",
      "2223/2223 - 3s - loss: 0.0815 - accuracy: 0.9799 - val_loss: 0.1529 - val_accuracy: 0.9624 - 3s/epoch - 1ms/step\n",
      "Epoch 47/100\n",
      "2223/2223 - 3s - loss: 0.0813 - accuracy: 0.9799 - val_loss: 0.1542 - val_accuracy: 0.9623 - 3s/epoch - 1ms/step\n",
      "Epoch 48/100\n",
      "2223/2223 - 3s - loss: 0.0819 - accuracy: 0.9799 - val_loss: 0.1537 - val_accuracy: 0.9624 - 3s/epoch - 1ms/step\n",
      "Epoch 49/100\n",
      "2223/2223 - 3s - loss: 0.0814 - accuracy: 0.9799 - val_loss: 0.1538 - val_accuracy: 0.9626 - 3s/epoch - 1ms/step\n",
      "Epoch 50/100\n",
      "2223/2223 - 3s - loss: 0.0811 - accuracy: 0.9799 - val_loss: 0.1540 - val_accuracy: 0.9626 - 3s/epoch - 1ms/step\n",
      "Epoch 51/100\n",
      "2223/2223 - 3s - loss: 0.0814 - accuracy: 0.9799 - val_loss: 0.1535 - val_accuracy: 0.9626 - 3s/epoch - 1ms/step\n",
      "Epoch 52/100\n",
      "2223/2223 - 3s - loss: 0.0809 - accuracy: 0.9799 - val_loss: 0.1534 - val_accuracy: 0.9626 - 3s/epoch - 1ms/step\n",
      "Epoch 53/100\n",
      "2223/2223 - 3s - loss: 0.0808 - accuracy: 0.9800 - val_loss: 0.1532 - val_accuracy: 0.9626 - 3s/epoch - 1ms/step\n",
      "Epoch 54/100\n",
      "2223/2223 - 3s - loss: 0.0809 - accuracy: 0.9799 - val_loss: 0.1530 - val_accuracy: 0.9626 - 3s/epoch - 1ms/step\n",
      "Epoch 55/100\n",
      "2223/2223 - 3s - loss: 0.0805 - accuracy: 0.9799 - val_loss: 0.1534 - val_accuracy: 0.9626 - 3s/epoch - 1ms/step\n",
      "Epoch 56/100\n",
      "2223/2223 - 3s - loss: 0.0809 - accuracy: 0.9800 - val_loss: 0.1529 - val_accuracy: 0.9626 - 3s/epoch - 1ms/step\n",
      "Epoch 57/100\n",
      "2223/2223 - 3s - loss: 0.0806 - accuracy: 0.9800 - val_loss: 0.1535 - val_accuracy: 0.9626 - 3s/epoch - 1ms/step\n",
      "Epoch 58/100\n",
      "2223/2223 - 3s - loss: 0.0806 - accuracy: 0.9800 - val_loss: 0.1529 - val_accuracy: 0.9626 - 3s/epoch - 1ms/step\n",
      "Epoch 59/100\n",
      "2223/2223 - 3s - loss: 0.0803 - accuracy: 0.9800 - val_loss: 0.1532 - val_accuracy: 0.9626 - 3s/epoch - 1ms/step\n",
      "Epoch 60/100\n",
      "2223/2223 - 3s - loss: 0.0801 - accuracy: 0.9800 - val_loss: 0.1524 - val_accuracy: 0.9626 - 3s/epoch - 1ms/step\n",
      "Epoch 61/100\n",
      "2223/2223 - 3s - loss: 0.0801 - accuracy: 0.9800 - val_loss: 0.1534 - val_accuracy: 0.9626 - 3s/epoch - 1ms/step\n",
      "Epoch 62/100\n",
      "2223/2223 - 3s - loss: 0.0800 - accuracy: 0.9800 - val_loss: 0.1523 - val_accuracy: 0.9626 - 3s/epoch - 1ms/step\n",
      "Epoch 63/100\n",
      "2223/2223 - 3s - loss: 0.0802 - accuracy: 0.9800 - val_loss: 0.1524 - val_accuracy: 0.9626 - 3s/epoch - 1ms/step\n",
      "Epoch 64/100\n",
      "2223/2223 - 3s - loss: 0.0799 - accuracy: 0.9800 - val_loss: 0.1518 - val_accuracy: 0.9626 - 3s/epoch - 1ms/step\n",
      "Epoch 65/100\n",
      "2223/2223 - 3s - loss: 0.0799 - accuracy: 0.9800 - val_loss: 0.1513 - val_accuracy: 0.9626 - 3s/epoch - 1ms/step\n",
      "Epoch 66/100\n",
      "2223/2223 - 3s - loss: 0.0796 - accuracy: 0.9800 - val_loss: 0.1528 - val_accuracy: 0.9626 - 3s/epoch - 1ms/step\n",
      "Epoch 67/100\n",
      "2223/2223 - 3s - loss: 0.0796 - accuracy: 0.9800 - val_loss: 0.1519 - val_accuracy: 0.9626 - 3s/epoch - 1ms/step\n",
      "Epoch 68/100\n",
      "2223/2223 - 3s - loss: 0.0795 - accuracy: 0.9801 - val_loss: 0.1523 - val_accuracy: 0.9626 - 3s/epoch - 1ms/step\n",
      "Epoch 69/100\n",
      "2223/2223 - 3s - loss: 0.0798 - accuracy: 0.9801 - val_loss: 0.1526 - val_accuracy: 0.9626 - 3s/epoch - 1ms/step\n",
      "Epoch 70/100\n",
      "2223/2223 - 3s - loss: 0.0798 - accuracy: 0.9800 - val_loss: 0.1529 - val_accuracy: 0.9626 - 3s/epoch - 1ms/step\n",
      "Epoch 71/100\n",
      "2223/2223 - 3s - loss: 0.0800 - accuracy: 0.9800 - val_loss: 0.1533 - val_accuracy: 0.9626 - 3s/epoch - 1ms/step\n",
      "Epoch 72/100\n",
      "2223/2223 - 3s - loss: 0.0794 - accuracy: 0.9800 - val_loss: 0.1513 - val_accuracy: 0.9626 - 3s/epoch - 1ms/step\n",
      "Epoch 73/100\n",
      "2223/2223 - 3s - loss: 0.0793 - accuracy: 0.9800 - val_loss: 0.1516 - val_accuracy: 0.9626 - 3s/epoch - 1ms/step\n",
      "Epoch 74/100\n",
      "2223/2223 - 3s - loss: 0.0797 - accuracy: 0.9800 - val_loss: 0.1523 - val_accuracy: 0.9626 - 3s/epoch - 1ms/step\n",
      "Epoch 75/100\n",
      "2223/2223 - 3s - loss: 0.0795 - accuracy: 0.9800 - val_loss: 0.1521 - val_accuracy: 0.9626 - 3s/epoch - 1ms/step\n",
      "Epoch 76/100\n",
      "2223/2223 - 3s - loss: 0.0796 - accuracy: 0.9800 - val_loss: 0.1523 - val_accuracy: 0.9626 - 3s/epoch - 1ms/step\n",
      "Epoch 77/100\n",
      "2223/2223 - 3s - loss: 0.0791 - accuracy: 0.9800 - val_loss: 0.1522 - val_accuracy: 0.9626 - 3s/epoch - 1ms/step\n",
      "Epoch 78/100\n",
      "2223/2223 - 3s - loss: 0.0791 - accuracy: 0.9801 - val_loss: 0.1525 - val_accuracy: 0.9626 - 3s/epoch - 1ms/step\n",
      "Epoch 79/100\n",
      "2223/2223 - 3s - loss: 0.0794 - accuracy: 0.9801 - val_loss: 0.1529 - val_accuracy: 0.9626 - 3s/epoch - 2ms/step\n",
      "Epoch 80/100\n",
      "2223/2223 - 3s - loss: 0.0794 - accuracy: 0.9800 - val_loss: 0.1517 - val_accuracy: 0.9626 - 3s/epoch - 1ms/step\n",
      "Epoch 81/100\n",
      "2223/2223 - 3s - loss: 0.0789 - accuracy: 0.9800 - val_loss: 0.1519 - val_accuracy: 0.9626 - 3s/epoch - 1ms/step\n",
      "Epoch 82/100\n",
      "2223/2223 - 3s - loss: 0.0791 - accuracy: 0.9801 - val_loss: 0.1514 - val_accuracy: 0.9626 - 3s/epoch - 1ms/step\n",
      "Epoch 83/100\n",
      "2223/2223 - 3s - loss: 0.0788 - accuracy: 0.9801 - val_loss: 0.1526 - val_accuracy: 0.9626 - 3s/epoch - 1ms/step\n",
      "Epoch 84/100\n",
      "2223/2223 - 3s - loss: 0.0788 - accuracy: 0.9801 - val_loss: 0.1514 - val_accuracy: 0.9626 - 3s/epoch - 1ms/step\n",
      "Epoch 85/100\n",
      "2223/2223 - 3s - loss: 0.0786 - accuracy: 0.9801 - val_loss: 0.1507 - val_accuracy: 0.9626 - 3s/epoch - 1ms/step\n",
      "Epoch 86/100\n",
      "2223/2223 - 3s - loss: 0.0789 - accuracy: 0.9801 - val_loss: 0.1516 - val_accuracy: 0.9626 - 3s/epoch - 1ms/step\n",
      "Epoch 87/100\n",
      "2223/2223 - 3s - loss: 0.0786 - accuracy: 0.9801 - val_loss: 0.1526 - val_accuracy: 0.9626 - 3s/epoch - 1ms/step\n",
      "Epoch 88/100\n",
      "2223/2223 - 3s - loss: 0.0789 - accuracy: 0.9801 - val_loss: 0.1521 - val_accuracy: 0.9626 - 3s/epoch - 1ms/step\n",
      "Epoch 89/100\n",
      "2223/2223 - 3s - loss: 0.0791 - accuracy: 0.9802 - val_loss: 0.1527 - val_accuracy: 0.9626 - 3s/epoch - 1ms/step\n",
      "Epoch 90/100\n",
      "2223/2223 - 3s - loss: 0.0790 - accuracy: 0.9801 - val_loss: 0.1524 - val_accuracy: 0.9626 - 3s/epoch - 1ms/step\n",
      "Epoch 91/100\n",
      "2223/2223 - 3s - loss: 0.0789 - accuracy: 0.9801 - val_loss: 0.1515 - val_accuracy: 0.9626 - 3s/epoch - 1ms/step\n",
      "Epoch 92/100\n",
      "2223/2223 - 3s - loss: 0.0785 - accuracy: 0.9802 - val_loss: 0.1521 - val_accuracy: 0.9626 - 3s/epoch - 1ms/step\n",
      "Epoch 93/100\n",
      "2223/2223 - 3s - loss: 0.0785 - accuracy: 0.9802 - val_loss: 0.1515 - val_accuracy: 0.9626 - 3s/epoch - 1ms/step\n",
      "Epoch 94/100\n",
      "2223/2223 - 3s - loss: 0.0781 - accuracy: 0.9802 - val_loss: 0.1510 - val_accuracy: 0.9628 - 3s/epoch - 1ms/step\n",
      "Epoch 95/100\n",
      "2223/2223 - 3s - loss: 0.0784 - accuracy: 0.9801 - val_loss: 0.1517 - val_accuracy: 0.9626 - 3s/epoch - 1ms/step\n",
      "Epoch 96/100\n",
      "2223/2223 - 3s - loss: 0.0785 - accuracy: 0.9802 - val_loss: 0.1525 - val_accuracy: 0.9626 - 3s/epoch - 1ms/step\n",
      "Epoch 97/100\n",
      "2223/2223 - 3s - loss: 0.0786 - accuracy: 0.9803 - val_loss: 0.1515 - val_accuracy: 0.9628 - 3s/epoch - 1ms/step\n",
      "Epoch 98/100\n",
      "2223/2223 - 3s - loss: 0.0780 - accuracy: 0.9802 - val_loss: 0.1509 - val_accuracy: 0.9628 - 3s/epoch - 1ms/step\n",
      "Epoch 99/100\n",
      "2223/2223 - 3s - loss: 0.0782 - accuracy: 0.9802 - val_loss: 0.1523 - val_accuracy: 0.9628 - 3s/epoch - 1ms/step\n",
      "Epoch 100/100\n",
      "2223/2223 - 3s - loss: 0.0786 - accuracy: 0.9802 - val_loss: 0.1528 - val_accuracy: 0.9628 - 3s/epoch - 1ms/step\n"
     ]
    }
   ],
   "source": [
    "history = model.fit(train_data, epochs=100, validation_data = val_data,verbose = 2, use_multiprocessing=True, workers=8, callbacks=[tensorboard_callback],shuffle=True)"
   ]
  },
  {
   "cell_type": "markdown",
   "id": "9ab79f4f",
   "metadata": {},
   "source": [
    "8. 학습이 완료된 후 학습된 모델을 h5 형식으로 저장합니다."
   ]
  },
  {
   "cell_type": "code",
   "execution_count": 8,
   "id": "96ac53a8",
   "metadata": {},
   "outputs": [],
   "source": [
    "model.save(\"HH10.h5\")"
   ]
  },
  {
   "cell_type": "markdown",
   "id": "c5d6346b",
   "metadata": {},
   "source": [
    "9. 학습된 모델의 정확한 검증을 위해 Test데이터를 새롭게 불러옵니다."
   ]
  },
  {
   "cell_type": "code",
   "execution_count": 9,
   "id": "5163bc08",
   "metadata": {},
   "outputs": [],
   "source": [
    "raw_test_data1 = get_dataset(\"./dnn_input/senario1_test.csv\",\n",
    "                           select_columns=SELECT_COLUMNS,\n",
    "                           column_defaults = DEFAULTS)\n",
    "raw_test_data2 = get_dataset(\"./dnn_input/senario2_test.csv\",\n",
    "                           select_columns=SELECT_COLUMNS,\n",
    "                           column_defaults = DEFAULTS)\n",
    "raw_test_data3 = get_dataset(\"./dnn_input/senario3_test.csv\",\n",
    "                           select_columns=SELECT_COLUMNS,\n",
    "                           column_defaults = DEFAULTS)\n",
    "raw_test_data4 = get_dataset(\"./dnn_input/senario4_test.csv\",\n",
    "                           select_columns=SELECT_COLUMNS,\n",
    "                           column_defaults = DEFAULTS)\n",
    "raw_test_data5 = get_dataset(\"./dnn_input/senario5_test.csv\",\n",
    "                           select_columns=SELECT_COLUMNS,\n",
    "                           column_defaults = DEFAULTS)\n",
    "raw_test_data6 = get_dataset(\"./dnn_input/senario6_test.csv\",\n",
    "                           select_columns=SELECT_COLUMNS,\n",
    "                           column_defaults = DEFAULTS)\n",
    "\n",
    "test_batch1, test_labels_batch1 = next(iter(raw_test_data1))\n",
    "packed_test_dataset1 = raw_test_data1.map(pack)\n",
    "\n",
    "test_batch2, test_labels_batch2 = next(iter(raw_test_data2))\n",
    "packed_test_dataset2 = raw_test_data2.map(pack)\n",
    "\n",
    "test_batch3, test_labels_batch3 = next(iter(raw_test_data3))\n",
    "packed_test_dataset3 = raw_test_data3.map(pack)\n",
    "\n",
    "test_batch4, test_labels_batch4 = next(iter(raw_test_data4))\n",
    "packed_test_dataset4 = raw_test_data4.map(pack)\n",
    "\n",
    "test_batch5, test_labels_batch5 = next(iter(raw_test_data5))\n",
    "packed_test_dataset5 = raw_test_data5.map(pack)\n",
    "\n",
    "test_batch6, test_labels_batch6 = next(iter(raw_test_data6))\n",
    "packed_test_dataset6 = raw_test_data6.map(pack)\n"
   ]
  },
  {
   "cell_type": "markdown",
   "id": "a31cfd96",
   "metadata": {},
   "source": [
    "10. Test데이터를 기반으로 예측을 수행하고 통합 결과를 출력합니다."
   ]
  },
  {
   "cell_type": "code",
   "execution_count": 10,
   "id": "8621af6a",
   "metadata": {},
   "outputs": [
    {
     "name": "stdout",
     "output_type": "stream",
     "text": [
      "34/34 [==============================] - 0s 1ms/step - loss: 0.7997 - accuracy: 0.7936\n",
      "Test Loss 0.7997360229492188, Test Accuracy 0.7936210036277771\n",
      "\n",
      "23/23 [==============================] - 0s 2ms/step - loss: 0.0075 - accuracy: 1.0000\n",
      "Test Loss 0.007523302920162678, Test Accuracy 1.0\n",
      "\n",
      "31/31 [==============================] - 0s 1ms/step - loss: 0.0187 - accuracy: 0.9990\n",
      "Test Loss 0.018740233033895493, Test Accuracy 0.9989733099937439\n",
      "\n",
      "43/43 [==============================] - 0s 1ms/step - loss: 0.0090 - accuracy: 1.0000\n",
      "Test Loss 0.008961634710431099, Test Accuracy 1.0\n",
      "\n",
      "32/32 [==============================] - 0s 1ms/step - loss: 0.0191 - accuracy: 0.9931\n",
      "Test Loss 0.01909213699400425, Test Accuracy 0.9930555820465088\n",
      "\n",
      "28/28 [==============================] - 0s 2ms/step - loss: 0.0145 - accuracy: 1.0000\n",
      "Test Loss 0.014482192695140839, Test Accuracy 1.0\n",
      "\n"
     ]
    }
   ],
   "source": [
    "test_loss1, test_accuracy1 = model.evaluate(packed_test_dataset1)\n",
    "\n",
    "print('Test Loss {}, Test Accuracy {}\\n'.format(test_loss1, test_accuracy1))\n",
    "\n",
    "test_loss2, test_accuracy2 = model.evaluate(packed_test_dataset2)\n",
    "\n",
    "print('Test Loss {}, Test Accuracy {}\\n'.format(test_loss2, test_accuracy2))\n",
    "\n",
    "test_loss3, test_accuracy3 = model.evaluate(packed_test_dataset3)\n",
    "\n",
    "print('Test Loss {}, Test Accuracy {}\\n'.format(test_loss3, test_accuracy3))\n",
    "\n",
    "test_loss4, test_accuracy4 = model.evaluate(packed_test_dataset4)\n",
    "\n",
    "print('Test Loss {}, Test Accuracy {}\\n'.format(test_loss4, test_accuracy4))\n",
    "\n",
    "test_loss5, test_accuracy5 = model.evaluate(packed_test_dataset5)\n",
    "\n",
    "print('Test Loss {}, Test Accuracy {}\\n'.format(test_loss5, test_accuracy5))\n",
    "\n",
    "test_loss6, test_accuracy6 = model.evaluate(packed_test_dataset6)\n",
    "\n",
    "print('Test Loss {}, Test Accuracy {}\\n'.format(test_loss6, test_accuracy6))"
   ]
  },
  {
   "cell_type": "markdown",
   "id": "9cb160e6",
   "metadata": {},
   "source": [
    "11. 학습 결과를 그래프로 출력합니다."
   ]
  },
  {
   "cell_type": "code",
   "execution_count": 11,
   "id": "b3451b65",
   "metadata": {},
   "outputs": [
    {
     "data": {
      "image/png": "[encoded data removed]",
      "text/plain": [
       "<Figure size 640x480 with 1 Axes>"
      ]
     },
     "metadata": {},
     "output_type": "display_data"
    },
    {
     "data": {
      "image/png": "[encoded data removed]",
      "text/plain": [
       "<Figure size 640x480 with 1 Axes>"
      ]
     },
     "metadata": {},
     "output_type": "display_data"
    }
   ],
   "source": [
    "import matplotlib.pyplot as plt\n",
    "\n",
    "#print(history.history)\n",
    "\n",
    "plt.plot(history.history['accuracy'])\n",
    "plt.plot(history.history['val_accuracy'])\n",
    "plt.title('Model accuracy')\n",
    "plt.xlabel('Epoch')\n",
    "plt.ylabel('Accuracy')\n",
    "plt.legend(['Train', 'Validation'], loc='upper left')\n",
    "plt.show()\n",
    "\n",
    "plt.plot(history.history['loss'])\n",
    "plt.plot(history.history['val_loss'])\n",
    "plt.title('Model loss')\n",
    "plt.xlabel('Epoch')\n",
    "plt.ylabel('Loss')\n",
    "plt.legend(['Train', 'Validation'], loc='upper left')\n",
    "plt.show()"
   ]
  },
  {
   "cell_type": "markdown",
   "id": "65bfbf1e",
   "metadata": {},
   "source": []
  },
  {
   "cell_type": "code",
   "execution_count": null,
   "id": "90313ac7",
   "metadata": {},
   "outputs": [],
   "source": []
  }
 ],
 "metadata": {
  "kernelspec": {
   "display_name": "Python 3.9.12 ('ws')",
   "language": "python",
   "name": "python3"
  },
  "language_info": {
   "codemirror_mode": {
    "name": "ipython",
    "version": 3
   },
   "file_extension": ".py",
   "mimetype": "text/x-python",
   "name": "python",
   "nbconvert_exporter": "python",
   "pygments_lexer": "ipython3",
   "version": "3.9.12 (main, Apr  4 2022, 05:22:27) [MSC v.1916 64 bit (AMD64)]"
  },
  "vscode": {
   "interpreter": {
    "hash": "ea08836d5d6e405e10220cf9cfae21d13cf0ad20d000c897bb31d2efb93c779a"
   }
  }
 },
 "nbformat": 4,
 "nbformat_minor": 5
}
