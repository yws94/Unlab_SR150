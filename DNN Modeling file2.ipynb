{
 "cells": [
  {
   "cell_type": "markdown",
   "id": "e0134362",
   "metadata": {},
   "source": [
    "1. 라이브러리 importing "
   ]
  },
  {
   "cell_type": "code",
   "execution_count": 13,
   "id": "d020d3d6",
   "metadata": {},
   "outputs": [],
   "source": [
    "import tensorflow as tf\n",
    "import numpy as np\n",
    "from datetime import datetime\n",
    "import csv\n",
    "import os\n",
    "os.environ['TF_CPP_MIN_LOG_LEVEL'] = '2' # 텐서플로에서 ERROR, INFO, WARNING 로그를 출력하는 방법 -> 2 = INFO and WARNING messages are not printed"
   ]
  },
  {
   "cell_type": "markdown",
   "id": "120dfbec",
   "metadata": {},
   "source": [
    "2. 데이터셋 생성을 위한 함수. 본 파일에선 Python generator를 응용한 데이터셋 구성 방법을 사용하였습니다."
   ]
  },
  {
   "cell_type": "code",
   "execution_count": 14,
   "id": "e8f096fb",
   "metadata": {},
   "outputs": [],
   "source": [
    "np.set_printoptions(precision=4, suppress=True) \n",
    "\n",
    "LABEL_COLUMN = 'nlos'\n",
    "LABELS = [0, 1] # 출력결과 NLOS -> 0 or 1\n",
    "\n",
    "def get_dataset(file_path, **kwargs):\n",
    "  dataset = tf.data.experimental.make_csv_dataset(\n",
    "      file_path,\n",
    "      batch_size=32, # batch: 모델의 가중치를 업데이트하는 샘플 단위\n",
    "      label_name=LABEL_COLUMN,\n",
    "      na_value=\"?\", # NA/NaN으로 인식할 문자열\n",
    "      num_epochs=1, # 학습횟수\n",
    "      ignore_errors=True,  #오류를 무시하고 다음 유효 CSV레코드로 이동\n",
    "      shuffle=True, # 입력 셔플 X\n",
    "      **kwargs)\n",
    "  return dataset\n",
    "\n",
    "def show_batch(dataset): #각 열의 항목(배치)를 보여줌\n",
    "  for batch, label in dataset.take(1):\n",
    "    for key, value in batch.items():\n",
    "      print(\"{:20s}: {}\".format(key,value.numpy()))\n",
    "\n",
    "def pack(features, label): #모든 열들을 묶어줌\n",
    "  return tf.stack(list(features.values()), axis=-1), label"
   ]
  },
  {
   "cell_type": "markdown",
   "id": "bc8245c2",
   "metadata": {},
   "source": [
    "3. 위 함수의 매개변수로 전달되는 CSV 파일에서 학습에 사용할 열을 지정합니다."
   ]
  },
  {
   "cell_type": "code",
   "execution_count": 16,
   "id": "d0958370",
   "metadata": {},
   "outputs": [],
   "source": [
    "SELECT_COLUMNS = [\"nlos\",\\\n",
    "                  \"SNR main path 1\", \"SNR main path 2\", \"SNR main path 3\", \"SNR main path 4\",\\\n",
    "                  \"SNR first path 1\",\"SNR first path 2\",\"SNR first path 3\",\"SNR first path 4\",\\\n",
    "                  \"SNR Total 1\",\"SNR Total 2\",\"SNR Total 3\",\"SNR Total 4\",\\\n",
    "                  \"RSSI 1\",\"RSSI 2\",\"RSSI 3\",\"RSSI 4\",\\\n",
    "                  \"CIR main power 1\",\"CIR main power 2\",\"CIR main power 3\",\"CIR main power 4\",\\\n",
    "                  \"CIR first path power 1\",\"CIR first path power 2\",\"CIR first path power3\",\"CIR first path power 4\",\\\n",
    "                  \"Noise variance 1\",\"Noise variance 2\",\"Noise variance 3\",\"Noise variance 4\"]      # 열 이름\n",
    "DEFAULTS       = [0.0,\\\n",
    "                  0.0, 0.0, 0.0, 0.0,\\\n",
    "                  0.0, 0.0, 0.0, 0.0,\\\n",
    "                  0.0, 0.0, 0.0, 0.0,\\\n",
    "                  0.0, 0.0, 0.0, 0.0,\\\n",
    "                  0.0, 0.0, 0.0, 0.0,\\\n",
    "                  0.0, 0.0, 0.0, 0.0,\\\n",
    "                  0.0, 0.0, 0.0, 0.0] # 열 기본 값  설정\n",
    "\n",
    "raw_train_data = get_dataset(\"./dnn_input/master_train.csv\", \n",
    "                           select_columns=SELECT_COLUMNS,\n",
    "                           column_defaults = DEFAULTS)\n",
    "raw_val_data = get_dataset(\"./dnn_input/validation.csv\",\n",
    "                           select_columns=SELECT_COLUMNS,\n",
    "                           column_defaults = DEFAULTS)"
   ]
  },
  {
   "cell_type": "markdown",
   "id": "df7bf197",
   "metadata": {},
   "source": [
    "4. 2에서 정의한 함수를 기반으로 데이터 셋을 생성합니다."
   ]
  },
  {
   "cell_type": "code",
   "execution_count": 17,
   "id": "c927d2ee",
   "metadata": {},
   "outputs": [],
   "source": [
    "train_batch, train_labels_batch = next(iter(raw_train_data)) # iter : 반복을 이용해 어떠한 처리를 수행하는 호출가능 객체, next: 반복 수행 요청\n",
    "val_batch, val_labels_batch = next(iter(raw_val_data))\n",
    "# test_batch, test_labels_batch = next(iter(raw_test_data))\n",
    "    \n",
    "packed_dataset = raw_train_data.map(pack)\n",
    "packed_val_dataset = raw_val_data.map(pack)\n",
    "# packed_test_dataset = raw_test_data.map(pack)"
   ]
  },
  {
   "cell_type": "markdown",
   "id": "fa8dc328",
   "metadata": {},
   "source": [
    "5. 딥러닝 모델을 구성합니다. mirrored_strategy 부분은 다수의 GPU를 사용하기 위한 코드로 선택적으로 사용하시면 됩니다."
   ]
  },
  {
   "cell_type": "code",
   "execution_count": 18,
   "id": "b0233a5a",
   "metadata": {},
   "outputs": [
    {
     "name": "stdout",
     "output_type": "stream",
     "text": [
      "WARNING:tensorflow:There are non-GPU devices in `tf.distribute.Strategy`, not using nccl allreduce.\n",
      "INFO:tensorflow:Using MirroredStrategy with devices ('/job:localhost/replica:0/task:0/device:CPU:0',)\n",
      "Model: \"sequential_2\"\n",
      "_________________________________________________________________\n",
      " Layer (type)                Output Shape              Param #   \n",
      "=================================================================\n",
      " dense_4 (Dense)             (None, 56)                1624      \n",
      "                                                                 \n",
      " dense_5 (Dense)             (None, 1)                 57        \n",
      "                                                                 \n",
      "=================================================================\n",
      "Total params: 1,681\n",
      "Trainable params: 1,681\n",
      "Non-trainable params: 0\n",
      "_________________________________________________________________\n"
     ]
    }
   ],
   "source": [
    "opt = tf.keras.optimizers.Adadelta(learning_rate=0.001) # Adadelta optimization is a stochastic gradient descent method that is based on adaptive learning rate per dimension\n",
    "\n",
    "mirrored_strategy = tf.distribute.MirroredStrategy()\n",
    "\n",
    "\n",
    "with mirrored_strategy.scope():\n",
    "    model = tf.keras.Sequential([\n",
    "    tf.keras.layers.Input(shape=(28,)),\n",
    "    # tf.keras.layers.Dense(56,activation='tanh'), # 노드 수 : 56, input 차원 : 28\n",
    "    # tf.keras.layers.Dense(112,activation='tanh'), # 노드 수 : 112, input 차원 : 56\n",
    "    # tf.keras.layers.Dense(56, activation='tanh'), # 노드 수 : 56, input 차원 : 112\n",
    "    tf.keras.layers.Dense(56,activation='tanh'), # 노드 수 : 112, input 차원 : 56\n",
    "    # tf.keras.layers.Dense(28, activation='tanh'), # 노드 수 : 56, input 차원 : 112\n",
    "    tf.keras.layers.Dense(1,activation='sigmoid'), # 노드 수 : 1, input 차원 : 56\n",
    "    ])\n",
    "\n",
    "\n",
    "    model.compile(\n",
    "        loss=tf.keras.losses.BinaryCrossentropy(from_logits=True),\n",
    "        optimizer=opt,\n",
    "        metrics=['accuracy'])\n",
    "    \n",
    "model.summary()"
   ]
  },
  {
   "cell_type": "markdown",
   "id": "a61d6bec",
   "metadata": {},
   "source": [
    "6. 학습을 위해 데이터 셋을 한 번 더 지정하고, 실시간으로 학습 상황을 파악하기위해 Tensorboard Callback을 선언합니다."
   ]
  },
  {
   "cell_type": "code",
   "execution_count": 19,
   "id": "f6cdd768",
   "metadata": {},
   "outputs": [],
   "source": [
    "train_data = packed_dataset\n",
    "val_data = packed_val_dataset\n",
    "\n",
    "# Define the Keras TensorBoard callback.\n",
    "logdir=\"./logs/\" + datetime.now().strftime(\"%Y%m%d-%H%M%S\")\n",
    "tensorboard_callback = tf.keras.callbacks.TensorBoard(log_dir=logdir)"
   ]
  },
  {
   "cell_type": "markdown",
   "id": "171b2f74",
   "metadata": {},
   "source": [
    "7. 학습을 수행합니다. 아래 함수의 매개변수 설명은 Keras 또는 Tensorflow 공식 문서를 참고하시기 바랍니다."
   ]
  },
  {
   "cell_type": "code",
   "execution_count": 20,
   "id": "ebc23e4a",
   "metadata": {
    "scrolled": true
   },
   "outputs": [
    {
     "name": "stdout",
     "output_type": "stream",
     "text": [
      "Epoch 1/120\n",
      "1164/1164 - 3s - loss: 1.1104 - accuracy: 0.4321 - val_loss: 1.0975 - val_accuracy: 0.4117 - 3s/epoch - 3ms/step\n",
      "Epoch 2/120\n",
      "1164/1164 - 2s - loss: 1.0644 - accuracy: 0.4214 - val_loss: 1.0488 - val_accuracy: 0.4037 - 2s/epoch - 2ms/step\n",
      "Epoch 3/120\n",
      "1164/1164 - 2s - loss: 1.0144 - accuracy: 0.4153 - val_loss: 0.9983 - val_accuracy: 0.4013 - 2s/epoch - 2ms/step\n",
      "Epoch 4/120\n",
      "1164/1164 - 2s - loss: 0.9640 - accuracy: 0.4120 - val_loss: 0.9484 - val_accuracy: 0.3946 - 2s/epoch - 1ms/step\n",
      "Epoch 5/120\n",
      "1164/1164 - 2s - loss: 0.9145 - accuracy: 0.4058 - val_loss: 0.9000 - val_accuracy: 0.3831 - 2s/epoch - 2ms/step\n",
      "Epoch 6/120\n",
      "1164/1164 - 2s - loss: 0.8671 - accuracy: 0.4033 - val_loss: 0.8542 - val_accuracy: 0.3867 - 2s/epoch - 1ms/step\n",
      "Epoch 7/120\n",
      "1164/1164 - 2s - loss: 0.8226 - accuracy: 0.4088 - val_loss: 0.8115 - val_accuracy: 0.4020 - 2s/epoch - 2ms/step\n",
      "Epoch 8/120\n",
      "1164/1164 - 2s - loss: 0.7812 - accuracy: 0.4354 - val_loss: 0.7721 - val_accuracy: 0.4193 - 2s/epoch - 2ms/step\n",
      "Epoch 9/120\n",
      "1164/1164 - 2s - loss: 0.7428 - accuracy: 0.4391 - val_loss: 0.7354 - val_accuracy: 0.4190 - 2s/epoch - 2ms/step\n",
      "Epoch 10/120\n",
      "1164/1164 - 2s - loss: 0.7072 - accuracy: 0.4931 - val_loss: 0.7016 - val_accuracy: 0.5550 - 2s/epoch - 1ms/step\n",
      "Epoch 11/120\n",
      "1164/1164 - 2s - loss: 0.6745 - accuracy: 0.5822 - val_loss: 0.6708 - val_accuracy: 0.5561 - 2s/epoch - 2ms/step\n",
      "Epoch 12/120\n",
      "1164/1164 - 2s - loss: 0.6448 - accuracy: 0.6080 - val_loss: 0.6429 - val_accuracy: 0.5711 - 2s/epoch - 1ms/step\n",
      "Epoch 13/120\n",
      "1164/1164 - 2s - loss: 0.6177 - accuracy: 0.6153 - val_loss: 0.6174 - val_accuracy: 0.5732 - 2s/epoch - 2ms/step\n",
      "Epoch 14/120\n",
      "1164/1164 - 2s - loss: 0.5929 - accuracy: 0.6160 - val_loss: 0.5940 - val_accuracy: 0.5738 - 2s/epoch - 2ms/step\n",
      "Epoch 15/120\n",
      "1164/1164 - 2s - loss: 0.5702 - accuracy: 0.6762 - val_loss: 0.5726 - val_accuracy: 0.7002 - 2s/epoch - 2ms/step\n",
      "Epoch 16/120\n",
      "1164/1164 - 2s - loss: 0.5493 - accuracy: 0.7810 - val_loss: 0.5530 - val_accuracy: 0.7754 - 2s/epoch - 2ms/step\n",
      "Epoch 17/120\n",
      "1164/1164 - 2s - loss: 0.5303 - accuracy: 0.8389 - val_loss: 0.5351 - val_accuracy: 0.8413 - 2s/epoch - 2ms/step\n",
      "Epoch 18/120\n",
      "1164/1164 - 2s - loss: 0.5128 - accuracy: 0.8694 - val_loss: 0.5187 - val_accuracy: 0.8652 - 2s/epoch - 2ms/step\n",
      "Epoch 19/120\n",
      "1164/1164 - 2s - loss: 0.4966 - accuracy: 0.8849 - val_loss: 0.5034 - val_accuracy: 0.8686 - 2s/epoch - 2ms/step\n",
      "Epoch 20/120\n",
      "1164/1164 - 2s - loss: 0.4816 - accuracy: 0.8901 - val_loss: 0.4893 - val_accuracy: 0.8813 - 2s/epoch - 2ms/step\n",
      "Epoch 21/120\n",
      "1164/1164 - 2s - loss: 0.4677 - accuracy: 0.8954 - val_loss: 0.4762 - val_accuracy: 0.8839 - 2s/epoch - 2ms/step\n",
      "Epoch 22/120\n",
      "1164/1164 - 2s - loss: 0.4548 - accuracy: 0.8986 - val_loss: 0.4639 - val_accuracy: 0.8863 - 2s/epoch - 2ms/step\n",
      "Epoch 23/120\n",
      "1164/1164 - 2s - loss: 0.4426 - accuracy: 0.9020 - val_loss: 0.4524 - val_accuracy: 0.8928 - 2s/epoch - 2ms/step\n",
      "Epoch 24/120\n",
      "1164/1164 - 2s - loss: 0.4312 - accuracy: 0.9056 - val_loss: 0.4416 - val_accuracy: 0.8951 - 2s/epoch - 2ms/step\n",
      "Epoch 25/120\n",
      "1164/1164 - 2s - loss: 0.4204 - accuracy: 0.9081 - val_loss: 0.4313 - val_accuracy: 0.8985 - 2s/epoch - 2ms/step\n",
      "Epoch 26/120\n",
      "1164/1164 - 2s - loss: 0.4103 - accuracy: 0.9092 - val_loss: 0.4217 - val_accuracy: 0.8998 - 2s/epoch - 2ms/step\n",
      "Epoch 27/120\n",
      "1164/1164 - 2s - loss: 0.4008 - accuracy: 0.9103 - val_loss: 0.4126 - val_accuracy: 0.9034 - 2s/epoch - 2ms/step\n",
      "Epoch 28/120\n",
      "1164/1164 - 2s - loss: 0.3917 - accuracy: 0.9129 - val_loss: 0.4039 - val_accuracy: 0.9078 - 2s/epoch - 1ms/step\n",
      "Epoch 29/120\n",
      "1164/1164 - 2s - loss: 0.3832 - accuracy: 0.9166 - val_loss: 0.3958 - val_accuracy: 0.9093 - 2s/epoch - 2ms/step\n",
      "Epoch 30/120\n",
      "1164/1164 - 2s - loss: 0.3750 - accuracy: 0.9137 - val_loss: 0.3880 - val_accuracy: 0.9086 - 2s/epoch - 2ms/step\n",
      "Epoch 31/120\n",
      "1164/1164 - 2s - loss: 0.3673 - accuracy: 0.9133 - val_loss: 0.3805 - val_accuracy: 0.9088 - 2s/epoch - 2ms/step\n",
      "Epoch 32/120\n",
      "1164/1164 - 2s - loss: 0.3599 - accuracy: 0.9137 - val_loss: 0.3733 - val_accuracy: 0.9088 - 2s/epoch - 2ms/step\n",
      "Epoch 33/120\n",
      "1164/1164 - 2s - loss: 0.3529 - accuracy: 0.9139 - val_loss: 0.3666 - val_accuracy: 0.9101 - 2s/epoch - 2ms/step\n",
      "Epoch 34/120\n",
      "1164/1164 - 2s - loss: 0.3462 - accuracy: 0.9157 - val_loss: 0.3602 - val_accuracy: 0.9109 - 2s/epoch - 2ms/step\n",
      "Epoch 35/120\n",
      "1164/1164 - 2s - loss: 0.3399 - accuracy: 0.9205 - val_loss: 0.3541 - val_accuracy: 0.9177 - 2s/epoch - 2ms/step\n",
      "Epoch 36/120\n",
      "1164/1164 - 2s - loss: 0.3339 - accuracy: 0.9235 - val_loss: 0.3483 - val_accuracy: 0.9189 - 2s/epoch - 2ms/step\n",
      "Epoch 37/120\n",
      "1164/1164 - 2s - loss: 0.3282 - accuracy: 0.9252 - val_loss: 0.3428 - val_accuracy: 0.9198 - 2s/epoch - 2ms/step\n",
      "Epoch 38/120\n",
      "1164/1164 - 2s - loss: 0.3228 - accuracy: 0.9259 - val_loss: 0.3376 - val_accuracy: 0.9213 - 2s/epoch - 2ms/step\n",
      "Epoch 39/120\n",
      "1164/1164 - 2s - loss: 0.3176 - accuracy: 0.9273 - val_loss: 0.3325 - val_accuracy: 0.9229 - 2s/epoch - 2ms/step\n",
      "Epoch 40/120\n",
      "1164/1164 - 2s - loss: 0.3127 - accuracy: 0.9297 - val_loss: 0.3277 - val_accuracy: 0.9229 - 2s/epoch - 2ms/step\n",
      "Epoch 41/120\n",
      "1164/1164 - 2s - loss: 0.3079 - accuracy: 0.9311 - val_loss: 0.3231 - val_accuracy: 0.9252 - 2s/epoch - 2ms/step\n",
      "Epoch 42/120\n",
      "1164/1164 - 2s - loss: 0.3034 - accuracy: 0.9312 - val_loss: 0.3187 - val_accuracy: 0.9252 - 2s/epoch - 2ms/step\n",
      "Epoch 43/120\n",
      "1164/1164 - 2s - loss: 0.2991 - accuracy: 0.9318 - val_loss: 0.3144 - val_accuracy: 0.9254 - 2s/epoch - 2ms/step\n",
      "Epoch 44/120\n",
      "1164/1164 - 2s - loss: 0.2949 - accuracy: 0.9321 - val_loss: 0.3104 - val_accuracy: 0.9280 - 2s/epoch - 2ms/step\n",
      "Epoch 45/120\n",
      "1164/1164 - 2s - loss: 0.2910 - accuracy: 0.9337 - val_loss: 0.3065 - val_accuracy: 0.9283 - 2s/epoch - 2ms/step\n",
      "Epoch 46/120\n",
      "1164/1164 - 2s - loss: 0.2872 - accuracy: 0.9340 - val_loss: 0.3027 - val_accuracy: 0.9286 - 2s/epoch - 1ms/step\n",
      "Epoch 47/120\n",
      "1164/1164 - 2s - loss: 0.2835 - accuracy: 0.9356 - val_loss: 0.2992 - val_accuracy: 0.9315 - 2s/epoch - 2ms/step\n",
      "Epoch 48/120\n",
      "1164/1164 - 2s - loss: 0.2800 - accuracy: 0.9365 - val_loss: 0.2957 - val_accuracy: 0.9332 - 2s/epoch - 2ms/step\n",
      "Epoch 49/120\n",
      "1164/1164 - 2s - loss: 0.2767 - accuracy: 0.9374 - val_loss: 0.2924 - val_accuracy: 0.9333 - 2s/epoch - 2ms/step\n",
      "Epoch 50/120\n",
      "1164/1164 - 2s - loss: 0.2734 - accuracy: 0.9375 - val_loss: 0.2892 - val_accuracy: 0.9333 - 2s/epoch - 2ms/step\n",
      "Epoch 51/120\n",
      "1164/1164 - 2s - loss: 0.2703 - accuracy: 0.9377 - val_loss: 0.2861 - val_accuracy: 0.9338 - 2s/epoch - 2ms/step\n",
      "Epoch 52/120\n",
      "1164/1164 - 2s - loss: 0.2673 - accuracy: 0.9380 - val_loss: 0.2832 - val_accuracy: 0.9338 - 2s/epoch - 2ms/step\n",
      "Epoch 53/120\n",
      "1164/1164 - 2s - loss: 0.2645 - accuracy: 0.9381 - val_loss: 0.2804 - val_accuracy: 0.9338 - 2s/epoch - 2ms/step\n",
      "Epoch 54/120\n",
      "1164/1164 - 2s - loss: 0.2618 - accuracy: 0.9383 - val_loss: 0.2777 - val_accuracy: 0.9341 - 2s/epoch - 2ms/step\n",
      "Epoch 55/120\n",
      "1164/1164 - 2s - loss: 0.2592 - accuracy: 0.9407 - val_loss: 0.2752 - val_accuracy: 0.9392 - 2s/epoch - 2ms/step\n",
      "Epoch 56/120\n",
      "1164/1164 - 2s - loss: 0.2567 - accuracy: 0.9435 - val_loss: 0.2726 - val_accuracy: 0.9395 - 2s/epoch - 1ms/step\n",
      "Epoch 57/120\n",
      "1164/1164 - 2s - loss: 0.2542 - accuracy: 0.9435 - val_loss: 0.2702 - val_accuracy: 0.9397 - 2s/epoch - 2ms/step\n",
      "Epoch 58/120\n",
      "1164/1164 - 2s - loss: 0.2519 - accuracy: 0.9438 - val_loss: 0.2679 - val_accuracy: 0.9400 - 2s/epoch - 1ms/step\n",
      "Epoch 59/120\n",
      "1164/1164 - 2s - loss: 0.2496 - accuracy: 0.9438 - val_loss: 0.2656 - val_accuracy: 0.9400 - 2s/epoch - 2ms/step\n",
      "Epoch 60/120\n",
      "1164/1164 - 2s - loss: 0.2474 - accuracy: 0.9438 - val_loss: 0.2634 - val_accuracy: 0.9402 - 2s/epoch - 2ms/step\n",
      "Epoch 61/120\n",
      "1164/1164 - 2s - loss: 0.2453 - accuracy: 0.9439 - val_loss: 0.2613 - val_accuracy: 0.9402 - 2s/epoch - 2ms/step\n",
      "Epoch 62/120\n",
      "1164/1164 - 2s - loss: 0.2432 - accuracy: 0.9440 - val_loss: 0.2593 - val_accuracy: 0.9403 - 2s/epoch - 2ms/step\n",
      "Epoch 63/120\n",
      "1164/1164 - 2s - loss: 0.2413 - accuracy: 0.9441 - val_loss: 0.2573 - val_accuracy: 0.9405 - 2s/epoch - 2ms/step\n",
      "Epoch 64/120\n",
      "1164/1164 - 2s - loss: 0.2394 - accuracy: 0.9442 - val_loss: 0.2554 - val_accuracy: 0.9407 - 2s/epoch - 2ms/step\n",
      "Epoch 65/120\n",
      "1164/1164 - 2s - loss: 0.2376 - accuracy: 0.9444 - val_loss: 0.2536 - val_accuracy: 0.9411 - 2s/epoch - 2ms/step\n",
      "Epoch 66/120\n",
      "1164/1164 - 2s - loss: 0.2358 - accuracy: 0.9451 - val_loss: 0.2518 - val_accuracy: 0.9418 - 2s/epoch - 2ms/step\n",
      "Epoch 67/120\n",
      "1164/1164 - 2s - loss: 0.2341 - accuracy: 0.9454 - val_loss: 0.2501 - val_accuracy: 0.9420 - 2s/epoch - 2ms/step\n",
      "Epoch 68/120\n",
      "1164/1164 - 2s - loss: 0.2324 - accuracy: 0.9455 - val_loss: 0.2485 - val_accuracy: 0.9421 - 2s/epoch - 2ms/step\n",
      "Epoch 69/120\n",
      "1164/1164 - 2s - loss: 0.2308 - accuracy: 0.9457 - val_loss: 0.2469 - val_accuracy: 0.9426 - 2s/epoch - 2ms/step\n",
      "Epoch 70/120\n",
      "1164/1164 - 2s - loss: 0.2293 - accuracy: 0.9460 - val_loss: 0.2453 - val_accuracy: 0.9428 - 2s/epoch - 2ms/step\n",
      "Epoch 71/120\n",
      "1164/1164 - 2s - loss: 0.2278 - accuracy: 0.9462 - val_loss: 0.2438 - val_accuracy: 0.9428 - 2s/epoch - 2ms/step\n",
      "Epoch 72/120\n",
      "1164/1164 - 2s - loss: 0.2263 - accuracy: 0.9463 - val_loss: 0.2423 - val_accuracy: 0.9444 - 2s/epoch - 2ms/step\n",
      "Epoch 73/120\n",
      "1164/1164 - 2s - loss: 0.2249 - accuracy: 0.9470 - val_loss: 0.2409 - val_accuracy: 0.9444 - 2s/epoch - 2ms/step\n",
      "Epoch 74/120\n",
      "1164/1164 - 2s - loss: 0.2235 - accuracy: 0.9471 - val_loss: 0.2395 - val_accuracy: 0.9449 - 2s/epoch - 2ms/step\n",
      "Epoch 75/120\n",
      "1164/1164 - 2s - loss: 0.2222 - accuracy: 0.9471 - val_loss: 0.2382 - val_accuracy: 0.9449 - 2s/epoch - 2ms/step\n",
      "Epoch 76/120\n",
      "1164/1164 - 2s - loss: 0.2209 - accuracy: 0.9472 - val_loss: 0.2369 - val_accuracy: 0.9450 - 2s/epoch - 2ms/step\n",
      "Epoch 77/120\n",
      "1164/1164 - 2s - loss: 0.2197 - accuracy: 0.9472 - val_loss: 0.2356 - val_accuracy: 0.9450 - 2s/epoch - 2ms/step\n",
      "Epoch 78/120\n",
      "1164/1164 - 2s - loss: 0.2185 - accuracy: 0.9473 - val_loss: 0.2344 - val_accuracy: 0.9450 - 2s/epoch - 2ms/step\n",
      "Epoch 79/120\n",
      "1164/1164 - 2s - loss: 0.2173 - accuracy: 0.9476 - val_loss: 0.2332 - val_accuracy: 0.9450 - 2s/epoch - 2ms/step\n",
      "Epoch 80/120\n",
      "1164/1164 - 2s - loss: 0.2161 - accuracy: 0.9476 - val_loss: 0.2321 - val_accuracy: 0.9452 - 2s/epoch - 2ms/step\n",
      "Epoch 81/120\n",
      "1164/1164 - 2s - loss: 0.2150 - accuracy: 0.9477 - val_loss: 0.2309 - val_accuracy: 0.9452 - 2s/epoch - 2ms/step\n",
      "Epoch 82/120\n",
      "1164/1164 - 2s - loss: 0.2139 - accuracy: 0.9477 - val_loss: 0.2298 - val_accuracy: 0.9452 - 2s/epoch - 1ms/step\n",
      "Epoch 83/120\n",
      "1164/1164 - 2s - loss: 0.2129 - accuracy: 0.9479 - val_loss: 0.2288 - val_accuracy: 0.9452 - 2s/epoch - 2ms/step\n",
      "Epoch 84/120\n",
      "1164/1164 - 2s - loss: 0.2119 - accuracy: 0.9479 - val_loss: 0.2278 - val_accuracy: 0.9452 - 2s/epoch - 1ms/step\n",
      "Epoch 85/120\n",
      "1164/1164 - 2s - loss: 0.2109 - accuracy: 0.9480 - val_loss: 0.2267 - val_accuracy: 0.9454 - 2s/epoch - 2ms/step\n",
      "Epoch 86/120\n",
      "1164/1164 - 2s - loss: 0.2099 - accuracy: 0.9480 - val_loss: 0.2257 - val_accuracy: 0.9455 - 2s/epoch - 2ms/step\n",
      "Epoch 87/120\n",
      "1164/1164 - 2s - loss: 0.2089 - accuracy: 0.9479 - val_loss: 0.2248 - val_accuracy: 0.9455 - 2s/epoch - 2ms/step\n",
      "Epoch 88/120\n",
      "1164/1164 - 2s - loss: 0.2080 - accuracy: 0.9479 - val_loss: 0.2238 - val_accuracy: 0.9454 - 2s/epoch - 2ms/step\n",
      "Epoch 89/120\n",
      "1164/1164 - 2s - loss: 0.2071 - accuracy: 0.9479 - val_loss: 0.2229 - val_accuracy: 0.9459 - 2s/epoch - 2ms/step\n",
      "Epoch 90/120\n",
      "1164/1164 - 2s - loss: 0.2063 - accuracy: 0.9482 - val_loss: 0.2220 - val_accuracy: 0.9459 - 2s/epoch - 2ms/step\n",
      "Epoch 91/120\n",
      "1164/1164 - 2s - loss: 0.2054 - accuracy: 0.9484 - val_loss: 0.2212 - val_accuracy: 0.9462 - 2s/epoch - 2ms/step\n",
      "Epoch 92/120\n",
      "1164/1164 - 2s - loss: 0.2046 - accuracy: 0.9484 - val_loss: 0.2204 - val_accuracy: 0.9462 - 2s/epoch - 2ms/step\n",
      "Epoch 93/120\n",
      "1164/1164 - 2s - loss: 0.2038 - accuracy: 0.9485 - val_loss: 0.2195 - val_accuracy: 0.9462 - 2s/epoch - 2ms/step\n",
      "Epoch 94/120\n",
      "1164/1164 - 2s - loss: 0.2030 - accuracy: 0.9485 - val_loss: 0.2187 - val_accuracy: 0.9462 - 2s/epoch - 2ms/step\n",
      "Epoch 95/120\n",
      "1164/1164 - 2s - loss: 0.2023 - accuracy: 0.9485 - val_loss: 0.2180 - val_accuracy: 0.9462 - 2s/epoch - 2ms/step\n",
      "Epoch 96/120\n",
      "1164/1164 - 2s - loss: 0.2015 - accuracy: 0.9485 - val_loss: 0.2172 - val_accuracy: 0.9463 - 2s/epoch - 2ms/step\n",
      "Epoch 97/120\n",
      "1164/1164 - 2s - loss: 0.2008 - accuracy: 0.9486 - val_loss: 0.2164 - val_accuracy: 0.9463 - 2s/epoch - 2ms/step\n",
      "Epoch 98/120\n",
      "1164/1164 - 2s - loss: 0.2001 - accuracy: 0.9487 - val_loss: 0.2157 - val_accuracy: 0.9463 - 2s/epoch - 2ms/step\n",
      "Epoch 99/120\n",
      "1164/1164 - 2s - loss: 0.1994 - accuracy: 0.9488 - val_loss: 0.2150 - val_accuracy: 0.9465 - 2s/epoch - 2ms/step\n",
      "Epoch 100/120\n",
      "1164/1164 - 2s - loss: 0.1987 - accuracy: 0.9488 - val_loss: 0.2143 - val_accuracy: 0.9465 - 2s/epoch - 2ms/step\n",
      "Epoch 101/120\n",
      "1164/1164 - 2s - loss: 0.1980 - accuracy: 0.9489 - val_loss: 0.2136 - val_accuracy: 0.9467 - 2s/epoch - 2ms/step\n",
      "Epoch 102/120\n",
      "1164/1164 - 2s - loss: 0.1974 - accuracy: 0.9489 - val_loss: 0.2130 - val_accuracy: 0.9467 - 2s/epoch - 2ms/step\n",
      "Epoch 103/120\n",
      "1164/1164 - 2s - loss: 0.1967 - accuracy: 0.9489 - val_loss: 0.2123 - val_accuracy: 0.9468 - 2s/epoch - 2ms/step\n",
      "Epoch 104/120\n",
      "1164/1164 - 2s - loss: 0.1961 - accuracy: 0.9489 - val_loss: 0.2117 - val_accuracy: 0.9468 - 2s/epoch - 2ms/step\n",
      "Epoch 105/120\n",
      "1164/1164 - 2s - loss: 0.1955 - accuracy: 0.9489 - val_loss: 0.2111 - val_accuracy: 0.9468 - 2s/epoch - 2ms/step\n",
      "Epoch 106/120\n",
      "1164/1164 - 2s - loss: 0.1949 - accuracy: 0.9489 - val_loss: 0.2105 - val_accuracy: 0.9470 - 2s/epoch - 2ms/step\n",
      "Epoch 107/120\n",
      "1164/1164 - 2s - loss: 0.1944 - accuracy: 0.9490 - val_loss: 0.2099 - val_accuracy: 0.9470 - 2s/epoch - 2ms/step\n",
      "Epoch 108/120\n",
      "1164/1164 - 2s - loss: 0.1938 - accuracy: 0.9491 - val_loss: 0.2093 - val_accuracy: 0.9470 - 2s/epoch - 2ms/step\n",
      "Epoch 109/120\n",
      "1164/1164 - 2s - loss: 0.1932 - accuracy: 0.9491 - val_loss: 0.2087 - val_accuracy: 0.9472 - 2s/epoch - 2ms/step\n",
      "Epoch 110/120\n",
      "1164/1164 - 2s - loss: 0.1927 - accuracy: 0.9492 - val_loss: 0.2082 - val_accuracy: 0.9472 - 2s/epoch - 2ms/step\n",
      "Epoch 111/120\n",
      "1164/1164 - 2s - loss: 0.1922 - accuracy: 0.9492 - val_loss: 0.2076 - val_accuracy: 0.9472 - 2s/epoch - 2ms/step\n",
      "Epoch 112/120\n",
      "1164/1164 - 2s - loss: 0.1917 - accuracy: 0.9493 - val_loss: 0.2071 - val_accuracy: 0.9472 - 2s/epoch - 2ms/step\n",
      "Epoch 113/120\n",
      "1164/1164 - 2s - loss: 0.1911 - accuracy: 0.9493 - val_loss: 0.2065 - val_accuracy: 0.9472 - 2s/epoch - 2ms/step\n",
      "Epoch 114/120\n",
      "1164/1164 - 2s - loss: 0.1906 - accuracy: 0.9493 - val_loss: 0.2060 - val_accuracy: 0.9472 - 2s/epoch - 1ms/step\n",
      "Epoch 115/120\n",
      "1164/1164 - 2s - loss: 0.1901 - accuracy: 0.9493 - val_loss: 0.2055 - val_accuracy: 0.9472 - 2s/epoch - 2ms/step\n",
      "Epoch 116/120\n",
      "1164/1164 - 2s - loss: 0.1897 - accuracy: 0.9494 - val_loss: 0.2050 - val_accuracy: 0.9472 - 2s/epoch - 2ms/step\n",
      "Epoch 117/120\n",
      "1164/1164 - 2s - loss: 0.1892 - accuracy: 0.9494 - val_loss: 0.2046 - val_accuracy: 0.9472 - 2s/epoch - 2ms/step\n",
      "Epoch 118/120\n",
      "1164/1164 - 2s - loss: 0.1887 - accuracy: 0.9494 - val_loss: 0.2041 - val_accuracy: 0.9472 - 2s/epoch - 2ms/step\n",
      "Epoch 119/120\n",
      "1164/1164 - 2s - loss: 0.1883 - accuracy: 0.9496 - val_loss: 0.2036 - val_accuracy: 0.9473 - 2s/epoch - 2ms/step\n",
      "Epoch 120/120\n",
      "1164/1164 - 2s - loss: 0.1878 - accuracy: 0.9497 - val_loss: 0.2032 - val_accuracy: 0.9473 - 2s/epoch - 2ms/step\n"
     ]
    }
   ],
   "source": [
    "history = model.fit(train_data, epochs=120, validation_data = val_data,verbose = 2, use_multiprocessing=True, workers=8, callbacks=[tensorboard_callback],shuffle=True)"
   ]
  },
  {
   "cell_type": "markdown",
   "id": "9ab79f4f",
   "metadata": {},
   "source": [
    "8. 학습이 완료된 후 학습된 모델을 h5 형식으로 저장합니다."
   ]
  },
  {
   "cell_type": "code",
   "execution_count": 21,
   "id": "96ac53a8",
   "metadata": {},
   "outputs": [],
   "source": [
    "model.save(\"HH03.h5\")"
   ]
  },
  {
   "cell_type": "markdown",
   "id": "c5d6346b",
   "metadata": {},
   "source": [
    "9. 학습된 모델의 정확한 검증을 위해 Test데이터를 새롭게 불러옵니다."
   ]
  },
  {
   "cell_type": "code",
   "execution_count": 22,
   "id": "5163bc08",
   "metadata": {},
   "outputs": [],
   "source": [
    "raw_test_data1 = get_dataset(\"./dnn_input/senario1_test.csv\",\n",
    "                           select_columns=SELECT_COLUMNS,\n",
    "                           column_defaults = DEFAULTS)\n",
    "raw_test_data2 = get_dataset(\"./dnn_input/senario2_test.csv\",\n",
    "                           select_columns=SELECT_COLUMNS,\n",
    "                           column_defaults = DEFAULTS)\n",
    "raw_test_data3 = get_dataset(\"./dnn_input/senario3_test.csv\",\n",
    "                           select_columns=SELECT_COLUMNS,\n",
    "                           column_defaults = DEFAULTS)\n",
    "raw_test_data4 = get_dataset(\"./dnn_input/senario4_test.csv\",\n",
    "                           select_columns=SELECT_COLUMNS,\n",
    "                           column_defaults = DEFAULTS)\n",
    "raw_test_data5 = get_dataset(\"./dnn_input/senario5_test.csv\",\n",
    "                           select_columns=SELECT_COLUMNS,\n",
    "                           column_defaults = DEFAULTS)\n",
    "raw_test_data6 = get_dataset(\"./dnn_input/senario6_test.csv\",\n",
    "                           select_columns=SELECT_COLUMNS,\n",
    "                           column_defaults = DEFAULTS)\n",
    "\n",
    "test_batch1, test_labels_batch1 = next(iter(raw_test_data1))\n",
    "packed_test_dataset1 = raw_test_data1.map(pack)\n",
    "\n",
    "test_batch2, test_labels_batch2 = next(iter(raw_test_data2))\n",
    "packed_test_dataset2 = raw_test_data2.map(pack)\n",
    "\n",
    "test_batch3, test_labels_batch3 = next(iter(raw_test_data3))\n",
    "packed_test_dataset3 = raw_test_data3.map(pack)\n",
    "\n",
    "test_batch4, test_labels_batch4 = next(iter(raw_test_data4))\n",
    "packed_test_dataset4 = raw_test_data4.map(pack)\n",
    "\n",
    "test_batch5, test_labels_batch5 = next(iter(raw_test_data5))\n",
    "packed_test_dataset5 = raw_test_data5.map(pack)\n",
    "\n",
    "test_batch6, test_labels_batch6 = next(iter(raw_test_data6))\n",
    "packed_test_dataset6 = raw_test_data6.map(pack)\n"
   ]
  },
  {
   "cell_type": "markdown",
   "id": "a31cfd96",
   "metadata": {},
   "source": [
    "10. Test데이터를 기반으로 예측을 수행하고 통합 결과를 출력합니다."
   ]
  },
  {
   "cell_type": "code",
   "execution_count": 23,
   "id": "8621af6a",
   "metadata": {},
   "outputs": [
    {
     "name": "stdout",
     "output_type": "stream",
     "text": [
      "34/34 [==============================] - 0s 1ms/step - loss: 0.5958 - accuracy: 0.7833\n",
      "Test Loss 0.5958029627799988, Test Accuracy 0.7833020687103271\n",
      "\n",
      "23/23 [==============================] - 0s 2ms/step - loss: 0.0576 - accuracy: 1.0000\n",
      "Test Loss 0.05759080499410629, Test Accuracy 1.0\n",
      "\n",
      "31/31 [==============================] - 0s 2ms/step - loss: 0.1217 - accuracy: 0.9897\n",
      "Test Loss 0.12174312025308609, Test Accuracy 0.9897330403327942\n",
      "\n",
      "43/43 [==============================] - 0s 1ms/step - loss: 0.0570 - accuracy: 1.0000\n",
      "Test Loss 0.05702834203839302, Test Accuracy 1.0\n",
      "\n",
      "32/32 [==============================] - 0s 3ms/step - loss: 0.1483 - accuracy: 0.9841\n",
      "Test Loss 0.14829552173614502, Test Accuracy 0.9841269850730896\n",
      "\n",
      "28/28 [==============================] - 0s 1ms/step - loss: 0.2367 - accuracy: 0.9172\n",
      "Test Loss 0.23666562139987946, Test Accuracy 0.9172259569168091\n",
      "\n"
     ]
    }
   ],
   "source": [
    "test_loss1, test_accuracy1 = model.evaluate(packed_test_dataset1)\n",
    "\n",
    "print('Test Loss {}, Test Accuracy {}\\n'.format(test_loss1, test_accuracy1))\n",
    "\n",
    "test_loss2, test_accuracy2 = model.evaluate(packed_test_dataset2)\n",
    "\n",
    "print('Test Loss {}, Test Accuracy {}\\n'.format(test_loss2, test_accuracy2))\n",
    "\n",
    "test_loss3, test_accuracy3 = model.evaluate(packed_test_dataset3)\n",
    "\n",
    "print('Test Loss {}, Test Accuracy {}\\n'.format(test_loss3, test_accuracy3))\n",
    "\n",
    "test_loss4, test_accuracy4 = model.evaluate(packed_test_dataset4)\n",
    "\n",
    "print('Test Loss {}, Test Accuracy {}\\n'.format(test_loss4, test_accuracy4))\n",
    "\n",
    "test_loss5, test_accuracy5 = model.evaluate(packed_test_dataset5)\n",
    "\n",
    "print('Test Loss {}, Test Accuracy {}\\n'.format(test_loss5, test_accuracy5))\n",
    "\n",
    "test_loss6, test_accuracy6 = model.evaluate(packed_test_dataset6)\n",
    "\n",
    "print('Test Loss {}, Test Accuracy {}\\n'.format(test_loss6, test_accuracy6))"
   ]
  },
  {
   "cell_type": "markdown",
   "id": "9cb160e6",
   "metadata": {},
   "source": [
    "11. 학습 결과를 그래프로 출력합니다."
   ]
  },
  {
   "cell_type": "code",
   "execution_count": 24,
   "id": "b3451b65",
   "metadata": {},
   "outputs": [
    {
     "data": {
      "image/png": "[encoded data removed]",
      "text/plain": [
       "<Figure size 640x480 with 1 Axes>"
      ]
     },
     "metadata": {},
     "output_type": "display_data"
    },
    {
     "data": {
      "image/png": "[encoded data removed]",
      "text/plain": [
       "<Figure size 640x480 with 1 Axes>"
      ]
     },
     "metadata": {},
     "output_type": "display_data"
    }
   ],
   "source": [
    "import matplotlib.pyplot as plt\n",
    "\n",
    "#print(history.history)\n",
    "\n",
    "plt.plot(history.history['accuracy'])\n",
    "plt.plot(history.history['val_accuracy'])\n",
    "plt.title('Model accuracy')\n",
    "plt.xlabel('Epoch')\n",
    "plt.ylabel('Accuracy')\n",
    "plt.legend(['Train', 'Validation'], loc='upper left')\n",
    "plt.show()\n",
    "\n",
    "plt.plot(history.history['loss'])\n",
    "plt.plot(history.history['val_loss'])\n",
    "plt.title('Model loss')\n",
    "plt.xlabel('Epoch')\n",
    "plt.ylabel('Loss')\n",
    "plt.legend(['Train', 'Validation'], loc='upper left')\n",
    "plt.show()"
   ]
  },
  {
   "cell_type": "markdown",
   "id": "65bfbf1e",
   "metadata": {},
   "source": []
  },
  {
   "cell_type": "code",
   "execution_count": null,
   "id": "90313ac7",
   "metadata": {},
   "outputs": [],
   "source": []
  }
 ],
 "metadata": {
  "kernelspec": {
   "display_name": "Python 3.9.12 ('ws')",
   "language": "python",
   "name": "python3"
  },
  "language_info": {
   "codemirror_mode": {
    "name": "ipython",
    "version": 3
   },
   "file_extension": ".py",
   "mimetype": "text/x-python",
   "name": "python",
   "nbconvert_exporter": "python",
   "pygments_lexer": "ipython3",
   "version": "3.9.12"
  },
  "vscode": {
   "interpreter": {
    "hash": "ea08836d5d6e405e10220cf9cfae21d13cf0ad20d000c897bb31d2efb93c779a"
   }
  }
 },
 "nbformat": 4,
 "nbformat_minor": 5
}
